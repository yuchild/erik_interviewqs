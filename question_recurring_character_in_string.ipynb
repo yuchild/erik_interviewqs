{
 "cells": [
  {
   "cell_type": "code",
   "execution_count": 1,
   "metadata": {},
   "outputs": [
    {
     "name": "stdout",
     "output_type": "stream",
     "text": [
      "First Test: i\n",
      "Second Test: a\n",
      "Third Test: None\n"
     ]
    }
   ],
   "source": [
    "\"\"\"\n",
    "This question was asked by: HealthTap\n",
    "\n",
    "Given a string, return the first recurring character in it, or None if there is no recurring chracter.\n",
    "\n",
    "Example:\n",
    "\n",
    "input = \"interviewquery\"\n",
    "output = \"i\"\n",
    "\n",
    "input = \"interv\"\n",
    "output = None\n",
    "\"\"\"\n",
    "\n",
    "str1 = 'interviewquery'\n",
    "str2 = 'bananas'\n",
    "str3 = 'laps'\n",
    "\n",
    "def first_repeat(string):\n",
    "    str_ctn_dict = {}\n",
    "    for x in string:\n",
    "        if x in str_ctn_dict:\n",
    "            str_ctn_dict[x] += 1\n",
    "        else:\n",
    "            str_ctn_dict[x] = 1\n",
    "    for x in string:\n",
    "        if str_ctn_dict[x] > 1:\n",
    "            return x\n",
    "            break\n",
    "    \n",
    "\n",
    "\n",
    "print(f'First Test: {first_repeat(str1)}')\n",
    "print(f'Second Test: {first_repeat(str2)}')\n",
    "print(f'Third Test: {first_repeat(str3)}')"
   ]
  },
  {
   "cell_type": "code",
   "execution_count": null,
   "metadata": {},
   "outputs": [],
   "source": []
  }
 ],
 "metadata": {
  "kernelspec": {
   "display_name": "Python 3",
   "language": "python",
   "name": "python3"
  },
  "language_info": {
   "codemirror_mode": {
    "name": "ipython",
    "version": 3
   },
   "file_extension": ".py",
   "mimetype": "text/x-python",
   "name": "python",
   "nbconvert_exporter": "python",
   "pygments_lexer": "ipython3",
   "version": "3.8.5"
  }
 },
 "nbformat": 4,
 "nbformat_minor": 4
}
