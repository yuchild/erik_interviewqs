{
 "cells": [
  {
   "cell_type": "code",
   "execution_count": 1,
   "metadata": {},
   "outputs": [],
   "source": [
    "\"\"\"\n",
    "Suppose you're given an array of integers of length N. \n",
    "Write a function using Python to select j #s that will \n",
    "maximize the absolute difference between the j numbers chosen \n",
    "and those remaining in the array.\n",
    "\n",
    "Examples:\n",
    "Input: arr[ ] = [2, 6, 2, 1, 10]\n",
    "j = 2\n",
    "#Output: Here 1,2 are selected, with the difference between the sum of j (3) \n",
    "#and the remaining #s (6+10+2 = 5) being 15\n",
    "\n",
    "Input: arr[ ] = [1, 4, 3, 2, 4]\n",
    "j = 4\n",
    "#Output: Here we would select 4, 4, 3, and 2 for a sum of 13, whereas the sum of the remaining # is 1.\n",
    "#Therefore, the difference between j and our remaining # is 12\n",
    "\"\"\"\n",
    "lst1 = [2, 6, 2, 1, 10]\n",
    "lst2 = [1, 4, 3, 2, 4]"
   ]
  },
  {
   "cell_type": "code",
   "execution_count": 2,
   "metadata": {},
   "outputs": [],
   "source": [
    "def max_abs_diff(lst, j):\n",
    "    \"\"\"\n",
    "    Function returns difference between the sum top j numbers in list lst\n",
    "    and and the sum of the rest\n",
    "    \n",
    "    Inputs: lst, list of intgers\n",
    "            j, int of the number of top numbers\n",
    "    Ouputs: int of difference between top sums and bottom sums\n",
    "    \"\"\"\n",
    "    lst = sorted(lst)\n",
    "    sum1 = max(sum(lst[:j]) - sum(lst[j:]), sum(lst[j:]) - sum(lst[:j]))\n",
    "    lst = sorted(lst, reverse=True)\n",
    "    sum2 = max(sum(lst[:j]) - sum(lst[j:]), sum(lst[j:]) - sum(lst[:j]))\n",
    "    return max(sum1, sum2)"
   ]
  },
  {
   "cell_type": "code",
   "execution_count": 3,
   "metadata": {},
   "outputs": [
    {
     "data": {
      "text/plain": [
       "[10, 6, 2, 2, 1]"
      ]
     },
     "execution_count": 3,
     "metadata": {},
     "output_type": "execute_result"
    }
   ],
   "source": [
    "lst = [2, 6, 2, 1, 10]\n",
    "lst = sorted(lst, reverse=True)\n",
    "lst"
   ]
  },
  {
   "cell_type": "code",
   "execution_count": 4,
   "metadata": {},
   "outputs": [
    {
     "data": {
      "text/plain": [
       "[10, 6]"
      ]
     },
     "execution_count": 4,
     "metadata": {},
     "output_type": "execute_result"
    }
   ],
   "source": [
    "lst[:2]"
   ]
  },
  {
   "cell_type": "code",
   "execution_count": 5,
   "metadata": {},
   "outputs": [
    {
     "data": {
      "text/plain": [
       "[2, 2, 1]"
      ]
     },
     "execution_count": 5,
     "metadata": {},
     "output_type": "execute_result"
    }
   ],
   "source": [
    "lst[2:]"
   ]
  },
  {
   "cell_type": "code",
   "execution_count": 6,
   "metadata": {},
   "outputs": [
    {
     "data": {
      "text/plain": [
       "15"
      ]
     },
     "execution_count": 6,
     "metadata": {},
     "output_type": "execute_result"
    }
   ],
   "source": [
    "max_abs_diff(lst, 3)"
   ]
  },
  {
   "cell_type": "code",
   "execution_count": 7,
   "metadata": {},
   "outputs": [
    {
     "data": {
      "text/plain": [
       "15"
      ]
     },
     "execution_count": 7,
     "metadata": {},
     "output_type": "execute_result"
    }
   ],
   "source": [
    "max_abs_diff(lst1, 2)"
   ]
  },
  {
   "cell_type": "code",
   "execution_count": 8,
   "metadata": {},
   "outputs": [
    {
     "data": {
      "text/plain": [
       "12"
      ]
     },
     "execution_count": 8,
     "metadata": {},
     "output_type": "execute_result"
    }
   ],
   "source": [
    "max_abs_diff(lst2, 4)"
   ]
  }
 ],
 "metadata": {
  "kernelspec": {
   "display_name": "Python 3",
   "language": "python",
   "name": "python3"
  },
  "language_info": {
   "codemirror_mode": {
    "name": "ipython",
    "version": 3
   },
   "file_extension": ".py",
   "mimetype": "text/x-python",
   "name": "python",
   "nbconvert_exporter": "python",
   "pygments_lexer": "ipython3",
   "version": "3.8.5"
  }
 },
 "nbformat": 4,
 "nbformat_minor": 4
}
