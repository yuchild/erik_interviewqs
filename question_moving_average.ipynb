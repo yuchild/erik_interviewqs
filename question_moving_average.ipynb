{
 "cells": [
  {
   "cell_type": "code",
   "execution_count": 1,
   "metadata": {},
   "outputs": [],
   "source": [
    "j = [4, 4, 4, 9, 10, 11, 12]\n",
    "p = 3"
   ]
  },
  {
   "cell_type": "code",
   "execution_count": 2,
   "metadata": {},
   "outputs": [
    {
     "data": {
      "text/plain": [
       "3.0"
      ]
     },
     "execution_count": 2,
     "metadata": {},
     "output_type": "execute_result"
    }
   ],
   "source": [
    "def average(lst):\n",
    "    counter = 0\n",
    "    sum_ = 0\n",
    "    for x in lst:\n",
    "        sum_ += x\n",
    "        counter += 1\n",
    "    return sum_/counter\n",
    "\n",
    "average([1, 3, 5])"
   ]
  },
  {
   "cell_type": "code",
   "execution_count": 3,
   "metadata": {},
   "outputs": [
    {
     "name": "stdout",
     "output_type": "stream",
     "text": [
      "Min: 4\n",
      "Max: 11\n"
     ]
    }
   ],
   "source": [
    "j_len = len(j)\n",
    "counter = 0\n",
    "min_ = j[0]\n",
    "max_ = j[0]\n",
    "for j_element in j:\n",
    "    if counter+p > j_len:\n",
    "        break\n",
    "    else:\n",
    "        min_ = min(min_, average(j[counter:counter+3]))\n",
    "        max_ = max(max_, average(j[counter:counter+3]))\n",
    "    counter += 1\n",
    "                   \n",
    "print(f'Min: {round(min_)}')\n",
    "print(f'Max: {round(max_)}')"
   ]
  },
  {
   "cell_type": "code",
   "execution_count": 4,
   "metadata": {},
   "outputs": [],
   "source": [
    "def min_max_moving_avg(lst, p):\n",
    "    \n",
    "    def average(lst):\n",
    "        counter = 0\n",
    "        sum_ = 0\n",
    "        for x in lst:\n",
    "            sum_ += x\n",
    "            counter += 1\n",
    "        return sum_/counter\n",
    "    \n",
    "    j_len = len(j)\n",
    "    counter = 0\n",
    "    min_ = average(j[:p+1])\n",
    "    max_ = average(j[:p+1])\n",
    "    for j_element in j:\n",
    "        if counter+p > j_len:\n",
    "            break\n",
    "        else:\n",
    "            min_ = min(min_, average(j[counter:counter+p]))\n",
    "            max_ = max(max_, average(j[counter:counter+p]))\n",
    "        counter += 1\n",
    "    \n",
    "    return f'Min: {round(min_, 2)}, Max: {round(max_, 2)}'"
   ]
  },
  {
   "cell_type": "code",
   "execution_count": 5,
   "metadata": {},
   "outputs": [
    {
     "data": {
      "text/plain": [
       "'Min: 4.0, Max: 11.0'"
      ]
     },
     "execution_count": 5,
     "metadata": {},
     "output_type": "execute_result"
    }
   ],
   "source": [
    "min_max_moving_avg(j, p)"
   ]
  },
  {
   "cell_type": "code",
   "execution_count": 6,
   "metadata": {},
   "outputs": [
    {
     "data": {
      "text/plain": [
       "'Min: 6.2, Max: 9.2'"
      ]
     },
     "execution_count": 6,
     "metadata": {},
     "output_type": "execute_result"
    }
   ],
   "source": [
    "min_max_moving_avg(j, 5)"
   ]
  },
  {
   "cell_type": "code",
   "execution_count": 7,
   "metadata": {},
   "outputs": [
    {
     "data": {
      "text/plain": [
       "9.2"
      ]
     },
     "execution_count": 7,
     "metadata": {},
     "output_type": "execute_result"
    }
   ],
   "source": [
    "(4 + 9 + 10 + 11 + 12)/5"
   ]
  },
  {
   "cell_type": "code",
   "execution_count": 8,
   "metadata": {},
   "outputs": [
    {
     "data": {
      "text/plain": [
       "6.2"
      ]
     },
     "execution_count": 8,
     "metadata": {},
     "output_type": "execute_result"
    }
   ],
   "source": [
    "(4 + 4 + 4 + 9 + 10)/5"
   ]
  },
  {
   "cell_type": "code",
   "execution_count": null,
   "metadata": {},
   "outputs": [],
   "source": []
  }
 ],
 "metadata": {
  "kernelspec": {
   "display_name": "Python 3",
   "language": "python",
   "name": "python3"
  },
  "language_info": {
   "codemirror_mode": {
    "name": "ipython",
    "version": 3
   },
   "file_extension": ".py",
   "mimetype": "text/x-python",
   "name": "python",
   "nbconvert_exporter": "python",
   "pygments_lexer": "ipython3",
   "version": "3.8.5"
  }
 },
 "nbformat": 4,
 "nbformat_minor": 4
}
