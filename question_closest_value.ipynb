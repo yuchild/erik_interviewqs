{
 "cells": [
  {
   "cell_type": "code",
   "execution_count": 1,
   "metadata": {},
   "outputs": [],
   "source": [
    "\"\"\"\n",
    "Suppose you are given a list of Q 1D points. \n",
    "\n",
    "Write code to return the value in Q that is the closest to value j. \n",
    "\n",
    "If two values are equally close to j, return the smaller value.\n",
    "\n",
    "Example:\n",
    "\n",
    "Q = [1, -1, -5, 2, 4, -2, 1]\n",
    "j = 3\n",
    "\n",
    "Output: 2\n",
    "\"\"\"\n",
    "q = [1, -1, -5, 2, 4, -2, 1]\n",
    "j = 3"
   ]
  },
  {
   "cell_type": "code",
   "execution_count": 2,
   "metadata": {},
   "outputs": [],
   "source": [
    "def closest(lst, pt):\n",
    "    \"\"\"\n",
    "    Function returns the smallest number in list \n",
    "    closest to the point\n",
    "    \n",
    "    Inputs: lst, list of integers\n",
    "            pt, integer point value\n",
    "    Outputs: int, smallest value closest to point\n",
    "    \"\"\"\n",
    "    diff_lst = [abs(x - pt) for x in lst]\n",
    "    idx_lst = []\n",
    "    start = diff_lst[0]\n",
    "    for idx in range(1, len(diff_lst)):\n",
    "        if start > diff_lst[idx]:            \n",
    "            start = diff_lst[idx]\n",
    "            idx_lst.append(idx)\n",
    "        elif start == diff_lst[idx]:\n",
    "            idx_lst.append(idx)\n",
    "    smallest = lst[idx_lst[0]]\n",
    "    for idx in idx_lst:\n",
    "        if smallest > lst[idx]:\n",
    "            smallest = lst[idx]\n",
    "    return smallest"
   ]
  },
  {
   "cell_type": "code",
   "execution_count": 3,
   "metadata": {},
   "outputs": [
    {
     "data": {
      "text/plain": [
       "2"
      ]
     },
     "execution_count": 3,
     "metadata": {},
     "output_type": "execute_result"
    }
   ],
   "source": [
    "closest(q, j)"
   ]
  },
  {
   "cell_type": "code",
   "execution_count": 4,
   "metadata": {},
   "outputs": [
    {
     "data": {
      "text/plain": [
       "-5"
      ]
     },
     "execution_count": 4,
     "metadata": {},
     "output_type": "execute_result"
    }
   ],
   "source": [
    "q = [1, -1, -5, 2, 4, -2, 1]\n",
    "j = -100\n",
    "closest(q, j)"
   ]
  },
  {
   "cell_type": "code",
   "execution_count": null,
   "metadata": {},
   "outputs": [],
   "source": []
  }
 ],
 "metadata": {
  "kernelspec": {
   "display_name": "Python 3",
   "language": "python",
   "name": "python3"
  },
  "language_info": {
   "codemirror_mode": {
    "name": "ipython",
    "version": 3
   },
   "file_extension": ".py",
   "mimetype": "text/x-python",
   "name": "python",
   "nbconvert_exporter": "python",
   "pygments_lexer": "ipython3",
   "version": "3.8.5"
  }
 },
 "nbformat": 4,
 "nbformat_minor": 4
}
