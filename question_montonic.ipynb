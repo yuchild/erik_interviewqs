{
 "cells": [
  {
   "cell_type": "code",
   "execution_count": 1,
   "metadata": {},
   "outputs": [],
   "source": [
    "\"\"\"\n",
    "An array is monotonic if it is either monotone increasing or monotone decreasing. \n",
    "An array A is monotone increasing if for all i <= j, A[i] <= A[j]. \n",
    "An array A is monotone decreasing if for all i <= j, A[i] >= A[j].\n",
    "\n",
    "Ex:\n",
    "Input : [6, 5, 4, 4]\n",
    "Output : true\n",
    "\n",
    "Input : [5, 5, 5, 4]\n",
    "Output : true\n",
    "\n",
    "Input : [5, 15, 20, 10]\n",
    "Output : false\n",
    "\"\"\"\n",
    "def mono(lst):\n",
    "    \"\"\"\n",
    "    Function checks for monotonic integers\n",
    "    Input: list, integers\n",
    "    Output: bool, True or False\n",
    "    \"\"\"\n",
    "    mono_list = []\n",
    "    previous_num = lst[0]\n",
    "    for num in lst[1:]:\n",
    "        if previous_num > num:\n",
    "            mono_list.append(1) # appends 1 for greater\n",
    "        elif previous_num == num:\n",
    "            mono_list.append(0) # appends 0 for equal\n",
    "        else:\n",
    "            mono_list.append(-1) # apends -1 for lesser\n",
    "        previous_num = num\n",
    "    if (1 in mono_list) and (-1 in mono_list):\n",
    "        return False\n",
    "    else:\n",
    "        return True\n"
   ]
  },
  {
   "cell_type": "code",
   "execution_count": 2,
   "metadata": {},
   "outputs": [
    {
     "data": {
      "text/plain": [
       "True"
      ]
     },
     "execution_count": 2,
     "metadata": {},
     "output_type": "execute_result"
    }
   ],
   "source": [
    "lst = [6, 5, 4, 4]\n",
    "mono(lst)"
   ]
  },
  {
   "cell_type": "code",
   "execution_count": 3,
   "metadata": {},
   "outputs": [
    {
     "data": {
      "text/plain": [
       "True"
      ]
     },
     "execution_count": 3,
     "metadata": {},
     "output_type": "execute_result"
    }
   ],
   "source": [
    "lst = [5, 5, 5, 4]\n",
    "mono(lst)"
   ]
  },
  {
   "cell_type": "code",
   "execution_count": 4,
   "metadata": {},
   "outputs": [
    {
     "data": {
      "text/plain": [
       "False"
      ]
     },
     "execution_count": 4,
     "metadata": {},
     "output_type": "execute_result"
    }
   ],
   "source": [
    "lst = [5, 15, 20, 10]\n",
    "mono(lst)"
   ]
  },
  {
   "cell_type": "code",
   "execution_count": null,
   "metadata": {},
   "outputs": [],
   "source": []
  }
 ],
 "metadata": {
  "kernelspec": {
   "display_name": "Python 3",
   "language": "python",
   "name": "python3"
  },
  "language_info": {
   "codemirror_mode": {
    "name": "ipython",
    "version": 3
   },
   "file_extension": ".py",
   "mimetype": "text/x-python",
   "name": "python",
   "nbconvert_exporter": "python",
   "pygments_lexer": "ipython3",
   "version": "3.8.5"
  }
 },
 "nbformat": 4,
 "nbformat_minor": 4
}
