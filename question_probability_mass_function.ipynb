{
 "cells": [
  {
   "cell_type": "code",
   "execution_count": 1,
   "metadata": {},
   "outputs": [],
   "source": [
    "\"\"\"\n",
    "Suppose you're analyzing the utilization of a small parking lot you invested in. \n",
    "Customers enter the automated lot, receive a ticket, and select one of 20 spots at \n",
    "random (e.g. they are not assigned). Upon leaving, customers pay in relation to \n",
    "their time in the lot.\n",
    "\n",
    "You have collected the following dataset, which shows spot utilization for a month. \n",
    "Each # in the dataset corresponds to a spot # (1-20) and the # of times it appears \n",
    "in a row corresponds to the frequency of how many customers parked in that spot.\n",
    "\n",
    "Using all of this information, write code to visualize the Probability Mass Function \n",
    "(PMF) of your customers' spot selections. Your resultant chart should show each \n",
    "spot # (1-20) along with the probability of that spot being chosen based on your \n",
    "dataset. You can ignore seasonality and assume this month represents a standard \n",
    "month of parking at your lot.\n",
    "\"\"\"\n",
    "\n",
    "import pandas as pd\n",
    "import numpy as np\n",
    "import matplotlib.pyplot as plt\n",
    "plt.style.use('fivethirtyeight')"
   ]
  },
  {
   "cell_type": "code",
   "execution_count": 2,
   "metadata": {},
   "outputs": [
    {
     "data": {
      "text/html": [
       "<div>\n",
       "<style scoped>\n",
       "    .dataframe tbody tr th:only-of-type {\n",
       "        vertical-align: middle;\n",
       "    }\n",
       "\n",
       "    .dataframe tbody tr th {\n",
       "        vertical-align: top;\n",
       "    }\n",
       "\n",
       "    .dataframe thead th {\n",
       "        text-align: right;\n",
       "    }\n",
       "</style>\n",
       "<table border=\"1\" class=\"dataframe\">\n",
       "  <thead>\n",
       "    <tr style=\"text-align: right;\">\n",
       "      <th></th>\n",
       "      <th>Spot #</th>\n",
       "    </tr>\n",
       "  </thead>\n",
       "  <tbody>\n",
       "    <tr>\n",
       "      <th>288</th>\n",
       "      <td>6</td>\n",
       "    </tr>\n",
       "    <tr>\n",
       "      <th>245</th>\n",
       "      <td>5</td>\n",
       "    </tr>\n",
       "    <tr>\n",
       "      <th>897</th>\n",
       "      <td>18</td>\n",
       "    </tr>\n",
       "    <tr>\n",
       "      <th>559</th>\n",
       "      <td>12</td>\n",
       "    </tr>\n",
       "    <tr>\n",
       "      <th>600</th>\n",
       "      <td>13</td>\n",
       "    </tr>\n",
       "    <tr>\n",
       "      <th>764</th>\n",
       "      <td>16</td>\n",
       "    </tr>\n",
       "    <tr>\n",
       "      <th>875</th>\n",
       "      <td>18</td>\n",
       "    </tr>\n",
       "    <tr>\n",
       "      <th>927</th>\n",
       "      <td>19</td>\n",
       "    </tr>\n",
       "    <tr>\n",
       "      <th>459</th>\n",
       "      <td>9</td>\n",
       "    </tr>\n",
       "    <tr>\n",
       "      <th>703</th>\n",
       "      <td>15</td>\n",
       "    </tr>\n",
       "  </tbody>\n",
       "</table>\n",
       "</div>"
      ],
      "text/plain": [
       "     Spot #\n",
       "288       6\n",
       "245       5\n",
       "897      18\n",
       "559      12\n",
       "600      13\n",
       "764      16\n",
       "875      18\n",
       "927      19\n",
       "459       9\n",
       "703      15"
      ]
     },
     "execution_count": 2,
     "metadata": {},
     "output_type": "execute_result"
    }
   ],
   "source": [
    "data = pd.read_csv('./data/parking_spot_selection.csv')\n",
    "data.sample(10)"
   ]
  },
  {
   "cell_type": "code",
   "execution_count": 3,
   "metadata": {},
   "outputs": [
    {
     "data": {
      "text/plain": [
       "(987, 1)"
      ]
     },
     "execution_count": 3,
     "metadata": {},
     "output_type": "execute_result"
    }
   ],
   "source": [
    "data.shape"
   ]
  },
  {
   "cell_type": "code",
   "execution_count": 4,
   "metadata": {},
   "outputs": [
    {
     "data": {
      "text/plain": [
       "[0.057750759878419454,\n",
       " 0.05977710233029382,\n",
       " 0.04964539007092199,\n",
       " 0.04660587639311044,\n",
       " 0.05876393110435663,\n",
       " 0.05167173252279635,\n",
       " 0.047619047619047616,\n",
       " 0.04559270516717325,\n",
       " 0.04964539007092199,\n",
       " 0.04660587639311044,\n",
       " 0.03546099290780142,\n",
       " 0.05268490374873354,\n",
       " 0.03850050658561297,\n",
       " 0.05167173252279635,\n",
       " 0.04964539007092199,\n",
       " 0.06585612968591692,\n",
       " 0.04660587639311044,\n",
       " 0.05673758865248227,\n",
       " 0.04964539007092199,\n",
       " 0.03951367781155015]"
      ]
     },
     "execution_count": 4,
     "metadata": {},
     "output_type": "execute_result"
    }
   ],
   "source": [
    "x = list(data['Spot #'].value_counts(sort=False).index)\n",
    "y = list(data['Spot #'].value_counts(sort=False).values)\n",
    "z = [a/sum(y) for a in y]\n",
    "z"
   ]
  },
  {
   "cell_type": "code",
   "execution_count": 5,
   "metadata": {},
   "outputs": [
    {
     "data": {
      "image/png": "[encoded data removed]",
      "text/plain": [
       "<Figure size 432x288 with 1 Axes>"
      ]
     },
     "metadata": {},
     "output_type": "display_data"
    }
   ],
   "source": [
    "plt.bar(x, z)\n",
    "plt.ylabel('Probabilities')\n",
    "plt.xlabel('Parking Spot')\n",
    "plt.title('Probablity Mass Function');"
   ]
  },
  {
   "cell_type": "code",
   "execution_count": 6,
   "metadata": {},
   "outputs": [
    {
     "data": {
      "text/plain": [
       "0.047619047619047616"
      ]
     },
     "execution_count": 6,
     "metadata": {},
     "output_type": "execute_result"
    }
   ],
   "source": [
    "def prob_mass_func(spot):\n",
    "    return z[spot-1]\n",
    "\n",
    "prob_mass_func(7)"
   ]
  },
  {
   "cell_type": "code",
   "execution_count": null,
   "metadata": {},
   "outputs": [],
   "source": []
  }
 ],
 "metadata": {
  "kernelspec": {
   "display_name": "Python 3",
   "language": "python",
   "name": "python3"
  },
  "language_info": {
   "codemirror_mode": {
    "name": "ipython",
    "version": 3
   },
   "file_extension": ".py",
   "mimetype": "text/x-python",
   "name": "python",
   "nbconvert_exporter": "python",
   "pygments_lexer": "ipython3",
   "version": "3.8.5"
  }
 },
 "nbformat": 4,
 "nbformat_minor": 4
}
