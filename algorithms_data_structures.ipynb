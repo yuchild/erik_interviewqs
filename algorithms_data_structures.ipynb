{
 "cells": [
  {
   "cell_type": "code",
   "execution_count": 2,
   "metadata": {},
   "outputs": [
    {
     "name": "stdout",
     "output_type": "stream",
     "text": [
      "Welcome to the Calculator Program\n",
      "------------------------------\n",
      "Choose 1 to multiply, 2 to divide: 1\n",
      "Enter first number: 2\n",
      "Enter second number3\n",
      "2 multiplied by 3 is: 6\n"
     ]
    }
   ],
   "source": [
    "print(\"Welcome to the Calculator Program\")\n",
    "print(\"-\"*30)\n",
    "choice = input(\"Choose 1 to multiply, 2 to divide: \")\n",
    "if choice == \"1\" or choice == \"2\":\n",
    "    num1 = int(input(\"Enter first number: \"))\n",
    "    num2 = int(input(\"Enter second number\"))\n",
    "    if choice == \"1\":\n",
    "        print(f\"{num1} multiplied by {num2} is: {num1*num2}\")\n",
    "    else:\n",
    "        print(f\"{num1} divided by {num2} is: {num1/num2}\")\n",
    "else:\n",
    "    print(\"You've made an invalid selection\")"
   ]
  },
  {
   "cell_type": "code",
   "execution_count": null,
   "metadata": {},
   "outputs": [],
   "source": []
  }
 ],
 "metadata": {
  "kernelspec": {
   "display_name": "Python 3",
   "language": "python",
   "name": "python3"
  },
  "language_info": {
   "codemirror_mode": {
    "name": "ipython",
    "version": 3
   },
   "file_extension": ".py",
   "mimetype": "text/x-python",
   "name": "python",
   "nbconvert_exporter": "python",
   "pygments_lexer": "ipython3",
   "version": "3.8.10"
  }
 },
 "nbformat": 4,
 "nbformat_minor": 4
}
