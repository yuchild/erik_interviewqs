{
 "cells": [
  {
   "cell_type": "code",
   "execution_count": 1,
   "metadata": {},
   "outputs": [],
   "source": [
    "import numpy as np\n",
    "import pandas as pd\n",
    "import matplotlib.pyplot as plt\n",
    "plt.style.use('fivethirtyeight')"
   ]
  },
  {
   "cell_type": "code",
   "execution_count": 2,
   "metadata": {
    "scrolled": true
   },
   "outputs": [
    {
     "data": {
      "text/html": [
       "<div>\n",
       "<style scoped>\n",
       "    .dataframe tbody tr th:only-of-type {\n",
       "        vertical-align: middle;\n",
       "    }\n",
       "\n",
       "    .dataframe tbody tr th {\n",
       "        vertical-align: top;\n",
       "    }\n",
       "\n",
       "    .dataframe thead th {\n",
       "        text-align: right;\n",
       "    }\n",
       "</style>\n",
       "<table border=\"1\" class=\"dataframe\">\n",
       "  <thead>\n",
       "    <tr style=\"text-align: right;\">\n",
       "      <th></th>\n",
       "      <th>item_name</th>\n",
       "      <th>Item_id</th>\n",
       "      <th>price</th>\n",
       "    </tr>\n",
       "  </thead>\n",
       "  <tbody>\n",
       "    <tr>\n",
       "      <th>47</th>\n",
       "      <td>yogurt</td>\n",
       "      <td>48</td>\n",
       "      <td>1</td>\n",
       "    </tr>\n",
       "    <tr>\n",
       "      <th>10</th>\n",
       "      <td>cereals</td>\n",
       "      <td>11</td>\n",
       "      <td>3</td>\n",
       "    </tr>\n",
       "    <tr>\n",
       "      <th>30</th>\n",
       "      <td>pasta</td>\n",
       "      <td>31</td>\n",
       "      <td>1</td>\n",
       "    </tr>\n",
       "    <tr>\n",
       "      <th>40</th>\n",
       "      <td>ketchup</td>\n",
       "      <td>41</td>\n",
       "      <td>1</td>\n",
       "    </tr>\n",
       "    <tr>\n",
       "      <th>32</th>\n",
       "      <td>toilet paper</td>\n",
       "      <td>33</td>\n",
       "      <td>2</td>\n",
       "    </tr>\n",
       "    <tr>\n",
       "      <th>12</th>\n",
       "      <td>bagels</td>\n",
       "      <td>13</td>\n",
       "      <td>2</td>\n",
       "    </tr>\n",
       "    <tr>\n",
       "      <th>46</th>\n",
       "      <td>pork</td>\n",
       "      <td>47</td>\n",
       "      <td>4</td>\n",
       "    </tr>\n",
       "    <tr>\n",
       "      <th>24</th>\n",
       "      <td>cherries</td>\n",
       "      <td>25</td>\n",
       "      <td>3</td>\n",
       "    </tr>\n",
       "    <tr>\n",
       "      <th>21</th>\n",
       "      <td>frozen vegetables</td>\n",
       "      <td>22</td>\n",
       "      <td>1</td>\n",
       "    </tr>\n",
       "    <tr>\n",
       "      <th>29</th>\n",
       "      <td>flour</td>\n",
       "      <td>30</td>\n",
       "      <td>2</td>\n",
       "    </tr>\n",
       "  </tbody>\n",
       "</table>\n",
       "</div>"
      ],
      "text/plain": [
       "            item_name  Item_id  price\n",
       "47             yogurt       48      1\n",
       "10            cereals       11      3\n",
       "30              pasta       31      1\n",
       "40            ketchup       41      1\n",
       "32       toilet paper       33      2\n",
       "12             bagels       13      2\n",
       "46               pork       47      4\n",
       "24           cherries       25      3\n",
       "21  frozen vegetables       22      1\n",
       "29              flour       30      2"
      ]
     },
     "execution_count": 2,
     "metadata": {},
     "output_type": "execute_result"
    }
   ],
   "source": [
    "\"\"\"\n",
    "Suppose you have the following dataset which contains (1st tab) \n",
    "a list of items purchased by a given user, (2nd tab) a mapping \n",
    "which maps the item_id to the item name and price, (3rd tab) a \n",
    "matrix that formats data from sheet 1 into a matrix with users \n",
    "in rows and the number of each item_id purchased in columns.\n",
    "\n",
    "Using this data, can you create a similarity matrix for each item? \n",
    "Then can you create a heat chart that visually displays the similarity matrix?\n",
    "\n",
    "Note: The purpose of doing this exercise is to explore ways of \n",
    "analyzing data that could be generalized by a group (think clustering).\n",
    "\"\"\"\n",
    "\n",
    "sheet2 = pd.read_csv('./data/grocery_shopping_sheet2a.csv')\n",
    "sheet2.sample(10)"
   ]
  },
  {
   "cell_type": "code",
   "execution_count": 3,
   "metadata": {},
   "outputs": [
    {
     "data": {
      "text/plain": [
       "(48, 3)"
      ]
     },
     "execution_count": 3,
     "metadata": {},
     "output_type": "execute_result"
    }
   ],
   "source": [
    "sheet2.shape"
   ]
  },
  {
   "cell_type": "code",
   "execution_count": 4,
   "metadata": {},
   "outputs": [
    {
     "data": {
      "text/plain": [
       "numpy.int64"
      ]
     },
     "execution_count": 4,
     "metadata": {},
     "output_type": "execute_result"
    }
   ],
   "source": [
    "type(sheet2.Item_id.iloc[0])"
   ]
  },
  {
   "cell_type": "code",
   "execution_count": 5,
   "metadata": {},
   "outputs": [
    {
     "data": {
      "text/plain": [
       "48"
      ]
     },
     "execution_count": 5,
     "metadata": {},
     "output_type": "execute_result"
    }
   ],
   "source": [
    "len(sheet2.Item_id.value_counts())"
   ]
  },
  {
   "cell_type": "code",
   "execution_count": 6,
   "metadata": {
    "scrolled": true
   },
   "outputs": [
    {
     "name": "stdout",
     "output_type": "stream",
     "text": [
      "1\n",
      "2\n",
      "3\n",
      "4\n",
      "5\n",
      "6\n",
      "7\n",
      "8\n",
      "9\n",
      "10\n",
      "11\n",
      "12\n",
      "13\n",
      "14\n",
      "15\n",
      "16\n",
      "17\n",
      "18\n",
      "19\n",
      "20\n",
      "21\n",
      "22\n",
      "23\n",
      "24\n",
      "25\n",
      "26\n",
      "27\n",
      "28\n",
      "29\n",
      "30\n",
      "31\n",
      "32\n",
      "33\n",
      "34\n",
      "35\n",
      "36\n",
      "37\n",
      "38\n",
      "39\n",
      "40\n",
      "41\n",
      "42\n",
      "43\n",
      "44\n",
      "45\n",
      "46\n",
      "47\n",
      "48\n"
     ]
    }
   ],
   "source": [
    "for ids in sheet2.Item_id.values:\n",
    "    print(ids)"
   ]
  },
  {
   "cell_type": "code",
   "execution_count": 7,
   "metadata": {
    "scrolled": true
   },
   "outputs": [
    {
     "data": {
      "text/plain": [
       "{'1': 0,\n",
       " '2': 0,\n",
       " '3': 0,\n",
       " '4': 0,\n",
       " '5': 0,\n",
       " '6': 0,\n",
       " '7': 0,\n",
       " '8': 0,\n",
       " '9': 0,\n",
       " '10': 0,\n",
       " '11': 0,\n",
       " '12': 0,\n",
       " '13': 0,\n",
       " '14': 0,\n",
       " '15': 0,\n",
       " '16': 0,\n",
       " '17': 0,\n",
       " '18': 0,\n",
       " '19': 0,\n",
       " '20': 0,\n",
       " '21': 0,\n",
       " '22': 0,\n",
       " '23': 0,\n",
       " '24': 0,\n",
       " '25': 0,\n",
       " '26': 0,\n",
       " '27': 0,\n",
       " '28': 0,\n",
       " '29': 0,\n",
       " '30': 0,\n",
       " '31': 0,\n",
       " '32': 0,\n",
       " '33': 0,\n",
       " '34': 0,\n",
       " '35': 0,\n",
       " '36': 0,\n",
       " '37': 0,\n",
       " '38': 0,\n",
       " '39': 0,\n",
       " '40': 0,\n",
       " '41': 0,\n",
       " '42': 0,\n",
       " '43': 0,\n",
       " '44': 0,\n",
       " '45': 0,\n",
       " '46': 0,\n",
       " '47': 0,\n",
       " '48': 0}"
      ]
     },
     "execution_count": 7,
     "metadata": {},
     "output_type": "execute_result"
    }
   ],
   "source": [
    "item_id_dict = {str(x): 0 for x in sheet2.Item_id.values}\n",
    "item_id_dict"
   ]
  },
  {
   "cell_type": "code",
   "execution_count": null,
   "metadata": {},
   "outputs": [],
   "source": []
  },
  {
   "cell_type": "code",
   "execution_count": 8,
   "metadata": {},
   "outputs": [
    {
     "data": {
      "text/html": [
       "<div>\n",
       "<style scoped>\n",
       "    .dataframe tbody tr th:only-of-type {\n",
       "        vertical-align: middle;\n",
       "    }\n",
       "\n",
       "    .dataframe tbody tr th {\n",
       "        vertical-align: top;\n",
       "    }\n",
       "\n",
       "    .dataframe thead th {\n",
       "        text-align: right;\n",
       "    }\n",
       "</style>\n",
       "<table border=\"1\" class=\"dataframe\">\n",
       "  <thead>\n",
       "    <tr style=\"text-align: right;\">\n",
       "      <th></th>\n",
       "      <th>user_id</th>\n",
       "      <th>id</th>\n",
       "    </tr>\n",
       "  </thead>\n",
       "  <tbody>\n",
       "    <tr>\n",
       "      <th>20183</th>\n",
       "      <td>1003307</td>\n",
       "      <td>18,9</td>\n",
       "    </tr>\n",
       "    <tr>\n",
       "      <th>24912</th>\n",
       "      <td>842688</td>\n",
       "      <td>13,37,34,42,44,43,22,29,39,6</td>\n",
       "    </tr>\n",
       "    <tr>\n",
       "      <th>9200</th>\n",
       "      <td>5298</td>\n",
       "      <td>26,38,22,23,18</td>\n",
       "    </tr>\n",
       "    <tr>\n",
       "      <th>303</th>\n",
       "      <td>557085</td>\n",
       "      <td>13,26,28,43,38,27,18,36</td>\n",
       "    </tr>\n",
       "    <tr>\n",
       "      <th>17550</th>\n",
       "      <td>1406663</td>\n",
       "      <td>20,25,9,27,2,28,16,42,10,44,24,13</td>\n",
       "    </tr>\n",
       "    <tr>\n",
       "      <th>6677</th>\n",
       "      <td>1473772</td>\n",
       "      <td>14,40,46,19,47,44</td>\n",
       "    </tr>\n",
       "    <tr>\n",
       "      <th>14667</th>\n",
       "      <td>978964</td>\n",
       "      <td>44,25,23,34,10,45,3,19,2</td>\n",
       "    </tr>\n",
       "    <tr>\n",
       "      <th>1012</th>\n",
       "      <td>896886</td>\n",
       "      <td>46,40,20</td>\n",
       "    </tr>\n",
       "    <tr>\n",
       "      <th>36131</th>\n",
       "      <td>505400</td>\n",
       "      <td>28,20,40,48,21,46,12,24,39,8,16,9,23,36,17,6,4...</td>\n",
       "    </tr>\n",
       "    <tr>\n",
       "      <th>15878</th>\n",
       "      <td>607927</td>\n",
       "      <td>10,13,22,5,11,30,1,20,25,3</td>\n",
       "    </tr>\n",
       "  </tbody>\n",
       "</table>\n",
       "</div>"
      ],
      "text/plain": [
       "       user_id                                                 id\n",
       "20183  1003307                                               18,9\n",
       "24912   842688                       13,37,34,42,44,43,22,29,39,6\n",
       "9200      5298                                     26,38,22,23,18\n",
       "303     557085                            13,26,28,43,38,27,18,36\n",
       "17550  1406663                  20,25,9,27,2,28,16,42,10,44,24,13\n",
       "6677   1473772                                  14,40,46,19,47,44\n",
       "14667   978964                           44,25,23,34,10,45,3,19,2\n",
       "1012    896886                                           46,40,20\n",
       "36131   505400  28,20,40,48,21,46,12,24,39,8,16,9,23,36,17,6,4...\n",
       "15878   607927                         10,13,22,5,11,30,1,20,25,3"
      ]
     },
     "execution_count": 8,
     "metadata": {},
     "output_type": "execute_result"
    }
   ],
   "source": [
    "sheet1 = pd.read_csv('./data/grocery_shopping_sheet1a.csv')\n",
    "sheet1.sample(10)"
   ]
  },
  {
   "cell_type": "code",
   "execution_count": 9,
   "metadata": {},
   "outputs": [
    {
     "data": {
      "text/plain": [
       "(39474, 2)"
      ]
     },
     "execution_count": 9,
     "metadata": {},
     "output_type": "execute_result"
    }
   ],
   "source": [
    "sheet1.shape"
   ]
  },
  {
   "cell_type": "code",
   "execution_count": 10,
   "metadata": {},
   "outputs": [
    {
     "data": {
      "text/plain": [
       "24885"
      ]
     },
     "execution_count": 10,
     "metadata": {},
     "output_type": "execute_result"
    }
   ],
   "source": [
    "sheet1.user_id.nunique()"
   ]
  },
  {
   "cell_type": "code",
   "execution_count": 11,
   "metadata": {},
   "outputs": [
    {
     "data": {
      "text/plain": [
       "str"
      ]
     },
     "execution_count": 11,
     "metadata": {},
     "output_type": "execute_result"
    }
   ],
   "source": [
    "type(sheet1.id.iloc[0])"
   ]
  },
  {
   "cell_type": "code",
   "execution_count": 12,
   "metadata": {},
   "outputs": [
    {
     "data": {
      "text/plain": [
       "['27', '26']"
      ]
     },
     "execution_count": 12,
     "metadata": {},
     "output_type": "execute_result"
    }
   ],
   "source": [
    "sheet1.id.iloc[0].split(',')"
   ]
  },
  {
   "cell_type": "code",
   "execution_count": 13,
   "metadata": {},
   "outputs": [
    {
     "data": {
      "text/plain": [
       "1666    23,45,44,47,6,28,4,25,32,20,46\n",
       "6607                 37,34,40,13,39,42\n",
       "Name: id, dtype: object"
      ]
     },
     "execution_count": 13,
     "metadata": {},
     "output_type": "execute_result"
    }
   ],
   "source": [
    "sheet1[sheet1.user_id == 120265].id"
   ]
  },
  {
   "cell_type": "code",
   "execution_count": 14,
   "metadata": {},
   "outputs": [
    {
     "data": {
      "text/plain": [
       "numpy.int64"
      ]
     },
     "execution_count": 14,
     "metadata": {},
     "output_type": "execute_result"
    }
   ],
   "source": [
    "unique_user_ids = sheet1.user_id.unique()\n",
    "type(unique_user_ids[1])"
   ]
  },
  {
   "cell_type": "code",
   "execution_count": 15,
   "metadata": {},
   "outputs": [],
   "source": [
    "# tallys = []\n",
    "# for user in unique_user_ids:\n",
    "#     for lst in sheet1[sheet1.user_id == user].id:\n",
    "#         pass"
   ]
  },
  {
   "cell_type": "code",
   "execution_count": null,
   "metadata": {},
   "outputs": [],
   "source": []
  }
 ],
 "metadata": {
  "kernelspec": {
   "display_name": "Python 3",
   "language": "python",
   "name": "python3"
  },
  "language_info": {
   "codemirror_mode": {
    "name": "ipython",
    "version": 3
   },
   "file_extension": ".py",
   "mimetype": "text/x-python",
   "name": "python",
   "nbconvert_exporter": "python",
   "pygments_lexer": "ipython3",
   "version": "3.8.5"
  }
 },
 "nbformat": 4,
 "nbformat_minor": 4
}
