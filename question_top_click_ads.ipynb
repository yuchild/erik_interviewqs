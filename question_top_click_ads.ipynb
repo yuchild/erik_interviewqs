{
 "cells": [
  {
   "cell_type": "code",
   "execution_count": 21,
   "metadata": {},
   "outputs": [],
   "source": [
    "\"\"\"\n",
    "Given the following dataset, can you identify the top 3 performing ad groups? \n",
    "Explain how you evaluated the ad groups.\n",
    "\"\"\"\n",
    "\n",
    "import numpy as np\n",
    "import pandas as pd\n",
    "import matplotlib.pyplot as plt\n",
    "plt.style.use('fivethirtyeight')\n",
    "import seaborn as sns"
   ]
  },
  {
   "cell_type": "code",
   "execution_count": 22,
   "metadata": {
    "scrolled": false
   },
   "outputs": [
    {
     "data": {
      "text/html": [
       "<div>\n",
       "<style scoped>\n",
       "    .dataframe tbody tr th:only-of-type {\n",
       "        vertical-align: middle;\n",
       "    }\n",
       "\n",
       "    .dataframe tbody tr th {\n",
       "        vertical-align: top;\n",
       "    }\n",
       "\n",
       "    .dataframe thead th {\n",
       "        text-align: right;\n",
       "    }\n",
       "</style>\n",
       "<table border=\"1\" class=\"dataframe\">\n",
       "  <thead>\n",
       "    <tr style=\"text-align: right;\">\n",
       "      <th></th>\n",
       "      <th>date</th>\n",
       "      <th>shown</th>\n",
       "      <th>clicked</th>\n",
       "      <th>converted</th>\n",
       "      <th>avg_cost_per_click</th>\n",
       "      <th>total_revenue</th>\n",
       "      <th>ad</th>\n",
       "    </tr>\n",
       "  </thead>\n",
       "  <tbody>\n",
       "    <tr>\n",
       "      <th>0</th>\n",
       "      <td>10/1/15</td>\n",
       "      <td>65877</td>\n",
       "      <td>2339</td>\n",
       "      <td>43</td>\n",
       "      <td>0.90</td>\n",
       "      <td>641.62</td>\n",
       "      <td>ad_group_1</td>\n",
       "    </tr>\n",
       "    <tr>\n",
       "      <th>1</th>\n",
       "      <td>10/2/15</td>\n",
       "      <td>65100</td>\n",
       "      <td>2498</td>\n",
       "      <td>38</td>\n",
       "      <td>0.94</td>\n",
       "      <td>756.37</td>\n",
       "      <td>ad_group_1</td>\n",
       "    </tr>\n",
       "    <tr>\n",
       "      <th>2</th>\n",
       "      <td>10/3/15</td>\n",
       "      <td>70658</td>\n",
       "      <td>2313</td>\n",
       "      <td>49</td>\n",
       "      <td>0.86</td>\n",
       "      <td>970.90</td>\n",
       "      <td>ad_group_1</td>\n",
       "    </tr>\n",
       "    <tr>\n",
       "      <th>3</th>\n",
       "      <td>10/4/15</td>\n",
       "      <td>69809</td>\n",
       "      <td>2833</td>\n",
       "      <td>51</td>\n",
       "      <td>1.01</td>\n",
       "      <td>907.39</td>\n",
       "      <td>ad_group_1</td>\n",
       "    </tr>\n",
       "    <tr>\n",
       "      <th>4</th>\n",
       "      <td>10/5/15</td>\n",
       "      <td>68186</td>\n",
       "      <td>2696</td>\n",
       "      <td>41</td>\n",
       "      <td>1.00</td>\n",
       "      <td>879.45</td>\n",
       "      <td>ad_group_1</td>\n",
       "    </tr>\n",
       "  </tbody>\n",
       "</table>\n",
       "</div>"
      ],
      "text/plain": [
       "      date  shown  clicked  converted  avg_cost_per_click  total_revenue  \\\n",
       "0  10/1/15  65877     2339         43                0.90         641.62   \n",
       "1  10/2/15  65100     2498         38                0.94         756.37   \n",
       "2  10/3/15  70658     2313         49                0.86         970.90   \n",
       "3  10/4/15  69809     2833         51                1.01         907.39   \n",
       "4  10/5/15  68186     2696         41                1.00         879.45   \n",
       "\n",
       "           ad  \n",
       "0  ad_group_1  \n",
       "1  ad_group_1  \n",
       "2  ad_group_1  \n",
       "3  ad_group_1  \n",
       "4  ad_group_1  "
      ]
     },
     "execution_count": 22,
     "metadata": {},
     "output_type": "execute_result"
    }
   ],
   "source": [
    "data = pd.read_csv('./data/ads_table.csv')\n",
    "data.head()"
   ]
  },
  {
   "cell_type": "code",
   "execution_count": 23,
   "metadata": {},
   "outputs": [
    {
     "data": {
      "text/plain": [
       "(2115, 7)"
      ]
     },
     "execution_count": 23,
     "metadata": {},
     "output_type": "execute_result"
    }
   ],
   "source": [
    "data.shape"
   ]
  },
  {
   "cell_type": "code",
   "execution_count": 24,
   "metadata": {},
   "outputs": [
    {
     "data": {
      "text/plain": [
       "40"
      ]
     },
     "execution_count": 24,
     "metadata": {},
     "output_type": "execute_result"
    }
   ],
   "source": [
    "# Number of ads\n",
    "len(data.ad.value_counts().index)"
   ]
  },
  {
   "cell_type": "code",
   "execution_count": 25,
   "metadata": {},
   "outputs": [
    {
     "data": {
      "text/plain": [
       "ad\n",
       "ad_group_13    1054962.03\n",
       "ad_group_18     522716.78\n",
       "ad_group_4      381221.11\n",
       "ad_group_20     280928.66\n",
       "ad_group_26     275222.54\n",
       "ad_group_37     251427.33\n",
       "ad_group_34     213035.32\n",
       "ad_group_5      185859.28\n",
       "ad_group_12     129286.04\n",
       "ad_group_2       94528.67\n",
       "Name: total_revenue, dtype: float64"
      ]
     },
     "execution_count": 25,
     "metadata": {},
     "output_type": "execute_result"
    }
   ],
   "source": [
    "# Top Revenue\n",
    "ad_rev = data.groupby('ad', sort=False)['total_revenue'].sum()\n",
    "ad_rev.sort_values(ascending = False)[:10]"
   ]
  },
  {
   "cell_type": "code",
   "execution_count": 26,
   "metadata": {},
   "outputs": [
    {
     "data": {
      "text/plain": [
       "ad\n",
       "ad_group_3     851886\n",
       "ad_group_13    705941\n",
       "ad_group_38    580290\n",
       "ad_group_18    458621\n",
       "ad_group_4     397757\n",
       "ad_group_20    383486\n",
       "ad_group_26    347642\n",
       "ad_group_37    310855\n",
       "ad_group_7     258094\n",
       "ad_group_32    179180\n",
       "Name: clicked, dtype: int64"
      ]
     },
     "execution_count": 26,
     "metadata": {},
     "output_type": "execute_result"
    }
   ],
   "source": [
    "# Top Clicks\n",
    "ad_clicks = data.groupby('ad', sort=False)['clicked'].sum()\n",
    "ad_clicks.sort_values(ascending = False)[:10]"
   ]
  },
  {
   "cell_type": "code",
   "execution_count": 27,
   "metadata": {},
   "outputs": [
    {
     "data": {
      "text/plain": [
       "(53, 7)"
      ]
     },
     "execution_count": 27,
     "metadata": {},
     "output_type": "execute_result"
    }
   ],
   "source": [
    "# Ad group 13 analytics\n",
    "ad_group_13 = data[data.ad == 'ad_group_13']\n",
    "ad_group_13.shape"
   ]
  },
  {
   "cell_type": "code",
   "execution_count": 28,
   "metadata": {},
   "outputs": [
    {
     "data": {
      "text/html": [
       "<div>\n",
       "<style scoped>\n",
       "    .dataframe tbody tr th:only-of-type {\n",
       "        vertical-align: middle;\n",
       "    }\n",
       "\n",
       "    .dataframe tbody tr th {\n",
       "        vertical-align: top;\n",
       "    }\n",
       "\n",
       "    .dataframe thead th {\n",
       "        text-align: right;\n",
       "    }\n",
       "</style>\n",
       "<table border=\"1\" class=\"dataframe\">\n",
       "  <thead>\n",
       "    <tr style=\"text-align: right;\">\n",
       "      <th></th>\n",
       "      <th>shown</th>\n",
       "      <th>clicked</th>\n",
       "      <th>converted</th>\n",
       "      <th>avg_cost_per_click</th>\n",
       "      <th>total_revenue</th>\n",
       "    </tr>\n",
       "  </thead>\n",
       "  <tbody>\n",
       "    <tr>\n",
       "      <th>count</th>\n",
       "      <td>53.000000</td>\n",
       "      <td>53.000000</td>\n",
       "      <td>53.000000</td>\n",
       "      <td>53.000000</td>\n",
       "      <td>53.000000</td>\n",
       "    </tr>\n",
       "    <tr>\n",
       "      <th>mean</th>\n",
       "      <td>155424.113208</td>\n",
       "      <td>13319.641509</td>\n",
       "      <td>1259.264151</td>\n",
       "      <td>1.674717</td>\n",
       "      <td>19904.943962</td>\n",
       "    </tr>\n",
       "    <tr>\n",
       "      <th>std</th>\n",
       "      <td>31679.046537</td>\n",
       "      <td>2980.364537</td>\n",
       "      <td>279.307946</td>\n",
       "      <td>0.360537</td>\n",
       "      <td>8178.101733</td>\n",
       "    </tr>\n",
       "    <tr>\n",
       "      <th>min</th>\n",
       "      <td>0.000000</td>\n",
       "      <td>0.000000</td>\n",
       "      <td>0.000000</td>\n",
       "      <td>0.000000</td>\n",
       "      <td>0.000000</td>\n",
       "    </tr>\n",
       "    <tr>\n",
       "      <th>25%</th>\n",
       "      <td>157960.000000</td>\n",
       "      <td>12755.000000</td>\n",
       "      <td>1224.000000</td>\n",
       "      <td>1.670000</td>\n",
       "      <td>15332.290000</td>\n",
       "    </tr>\n",
       "    <tr>\n",
       "      <th>50%</th>\n",
       "      <td>160905.000000</td>\n",
       "      <td>13844.000000</td>\n",
       "      <td>1304.000000</td>\n",
       "      <td>1.740000</td>\n",
       "      <td>20212.910000</td>\n",
       "    </tr>\n",
       "    <tr>\n",
       "      <th>75%</th>\n",
       "      <td>164310.000000</td>\n",
       "      <td>14470.000000</td>\n",
       "      <td>1383.000000</td>\n",
       "      <td>1.810000</td>\n",
       "      <td>23703.020000</td>\n",
       "    </tr>\n",
       "    <tr>\n",
       "      <th>max</th>\n",
       "      <td>176898.000000</td>\n",
       "      <td>18192.000000</td>\n",
       "      <td>1578.000000</td>\n",
       "      <td>2.100000</td>\n",
       "      <td>39623.710000</td>\n",
       "    </tr>\n",
       "  </tbody>\n",
       "</table>\n",
       "</div>"
      ],
      "text/plain": [
       "               shown       clicked    converted  avg_cost_per_click  \\\n",
       "count      53.000000     53.000000    53.000000           53.000000   \n",
       "mean   155424.113208  13319.641509  1259.264151            1.674717   \n",
       "std     31679.046537   2980.364537   279.307946            0.360537   \n",
       "min         0.000000      0.000000     0.000000            0.000000   \n",
       "25%    157960.000000  12755.000000  1224.000000            1.670000   \n",
       "50%    160905.000000  13844.000000  1304.000000            1.740000   \n",
       "75%    164310.000000  14470.000000  1383.000000            1.810000   \n",
       "max    176898.000000  18192.000000  1578.000000            2.100000   \n",
       "\n",
       "       total_revenue  \n",
       "count      53.000000  \n",
       "mean    19904.943962  \n",
       "std      8178.101733  \n",
       "min         0.000000  \n",
       "25%     15332.290000  \n",
       "50%     20212.910000  \n",
       "75%     23703.020000  \n",
       "max     39623.710000  "
      ]
     },
     "execution_count": 28,
     "metadata": {},
     "output_type": "execute_result"
    }
   ],
   "source": [
    "ad_group_13.describe()"
   ]
  },
  {
   "cell_type": "code",
   "execution_count": 29,
   "metadata": {},
   "outputs": [
    {
     "data": {
      "text/html": [
       "<div>\n",
       "<style scoped>\n",
       "    .dataframe tbody tr th:only-of-type {\n",
       "        vertical-align: middle;\n",
       "    }\n",
       "\n",
       "    .dataframe tbody tr th {\n",
       "        vertical-align: top;\n",
       "    }\n",
       "\n",
       "    .dataframe thead th {\n",
       "        text-align: right;\n",
       "    }\n",
       "</style>\n",
       "<table border=\"1\" class=\"dataframe\">\n",
       "  <thead>\n",
       "    <tr style=\"text-align: right;\">\n",
       "      <th></th>\n",
       "      <th>date</th>\n",
       "      <th>shown</th>\n",
       "      <th>clicked</th>\n",
       "      <th>converted</th>\n",
       "      <th>avg_cost_per_click</th>\n",
       "      <th>total_revenue</th>\n",
       "      <th>ad</th>\n",
       "    </tr>\n",
       "  </thead>\n",
       "  <tbody>\n",
       "    <tr>\n",
       "      <th>635</th>\n",
       "      <td>10/1/15</td>\n",
       "      <td>162075</td>\n",
       "      <td>14470</td>\n",
       "      <td>1389</td>\n",
       "      <td>1.81</td>\n",
       "      <td>35232.44</td>\n",
       "      <td>ad_group_13</td>\n",
       "    </tr>\n",
       "    <tr>\n",
       "      <th>636</th>\n",
       "      <td>10/2/15</td>\n",
       "      <td>156520</td>\n",
       "      <td>14062</td>\n",
       "      <td>1334</td>\n",
       "      <td>1.83</td>\n",
       "      <td>13441.45</td>\n",
       "      <td>ad_group_13</td>\n",
       "    </tr>\n",
       "    <tr>\n",
       "      <th>637</th>\n",
       "      <td>10/3/15</td>\n",
       "      <td>158721</td>\n",
       "      <td>10134</td>\n",
       "      <td>1383</td>\n",
       "      <td>1.31</td>\n",
       "      <td>21652.03</td>\n",
       "      <td>ad_group_13</td>\n",
       "    </tr>\n",
       "    <tr>\n",
       "      <th>638</th>\n",
       "      <td>10/4/15</td>\n",
       "      <td>168742</td>\n",
       "      <td>14309</td>\n",
       "      <td>1233</td>\n",
       "      <td>1.72</td>\n",
       "      <td>24499.48</td>\n",
       "      <td>ad_group_13</td>\n",
       "    </tr>\n",
       "    <tr>\n",
       "      <th>639</th>\n",
       "      <td>10/5/15</td>\n",
       "      <td>172151</td>\n",
       "      <td>14498</td>\n",
       "      <td>1380</td>\n",
       "      <td>1.71</td>\n",
       "      <td>29300.61</td>\n",
       "      <td>ad_group_13</td>\n",
       "    </tr>\n",
       "  </tbody>\n",
       "</table>\n",
       "</div>"
      ],
      "text/plain": [
       "        date   shown  clicked  converted  avg_cost_per_click  total_revenue  \\\n",
       "635  10/1/15  162075    14470       1389                1.81       35232.44   \n",
       "636  10/2/15  156520    14062       1334                1.83       13441.45   \n",
       "637  10/3/15  158721    10134       1383                1.31       21652.03   \n",
       "638  10/4/15  168742    14309       1233                1.72       24499.48   \n",
       "639  10/5/15  172151    14498       1380                1.71       29300.61   \n",
       "\n",
       "              ad  \n",
       "635  ad_group_13  \n",
       "636  ad_group_13  \n",
       "637  ad_group_13  \n",
       "638  ad_group_13  \n",
       "639  ad_group_13  "
      ]
     },
     "execution_count": 29,
     "metadata": {},
     "output_type": "execute_result"
    }
   ],
   "source": [
    "ad_group_13.head()"
   ]
  },
  {
   "cell_type": "code",
   "execution_count": null,
   "metadata": {},
   "outputs": [],
   "source": []
  },
  {
   "cell_type": "code",
   "execution_count": null,
   "metadata": {},
   "outputs": [],
   "source": []
  },
  {
   "cell_type": "code",
   "execution_count": null,
   "metadata": {},
   "outputs": [],
   "source": []
  },
  {
   "cell_type": "code",
   "execution_count": null,
   "metadata": {},
   "outputs": [],
   "source": []
  },
  {
   "cell_type": "code",
   "execution_count": null,
   "metadata": {},
   "outputs": [],
   "source": []
  },
  {
   "cell_type": "code",
   "execution_count": null,
   "metadata": {},
   "outputs": [],
   "source": []
  },
  {
   "cell_type": "code",
   "execution_count": null,
   "metadata": {},
   "outputs": [],
   "source": []
  },
  {
   "cell_type": "code",
   "execution_count": null,
   "metadata": {},
   "outputs": [],
   "source": []
  },
  {
   "cell_type": "code",
   "execution_count": 6,
   "metadata": {},
   "outputs": [],
   "source": [
    "data['shown_click'] = data['clicked'] / data['shown']\n",
    "data['click_convert'] = data['converted'] / data['clicked']\n",
    "data['sc_cc_ratio'] = data['shown_click'] / data['click_convert']\n",
    "data['shown_convert'] = data['converted'] / data['shown']"
   ]
  },
  {
   "cell_type": "code",
   "execution_count": 7,
   "metadata": {},
   "outputs": [
    {
     "data": {
      "text/html": [
       "<div>\n",
       "<style scoped>\n",
       "    .dataframe tbody tr th:only-of-type {\n",
       "        vertical-align: middle;\n",
       "    }\n",
       "\n",
       "    .dataframe tbody tr th {\n",
       "        vertical-align: top;\n",
       "    }\n",
       "\n",
       "    .dataframe thead th {\n",
       "        text-align: right;\n",
       "    }\n",
       "</style>\n",
       "<table border=\"1\" class=\"dataframe\">\n",
       "  <thead>\n",
       "    <tr style=\"text-align: right;\">\n",
       "      <th></th>\n",
       "      <th>date</th>\n",
       "      <th>shown</th>\n",
       "      <th>clicked</th>\n",
       "      <th>converted</th>\n",
       "      <th>avg_cost_per_click</th>\n",
       "      <th>total_revenue</th>\n",
       "      <th>ad</th>\n",
       "      <th>shown_click</th>\n",
       "      <th>click_convert</th>\n",
       "      <th>sc_cc_ratio</th>\n",
       "      <th>shown_convert</th>\n",
       "    </tr>\n",
       "  </thead>\n",
       "  <tbody>\n",
       "    <tr>\n",
       "      <th>0</th>\n",
       "      <td>10/1/15</td>\n",
       "      <td>65877</td>\n",
       "      <td>2339</td>\n",
       "      <td>43</td>\n",
       "      <td>0.90</td>\n",
       "      <td>641.62</td>\n",
       "      <td>ad_group_1</td>\n",
       "      <td>0.035506</td>\n",
       "      <td>0.018384</td>\n",
       "      <td>1.931338</td>\n",
       "      <td>0.000653</td>\n",
       "    </tr>\n",
       "    <tr>\n",
       "      <th>1</th>\n",
       "      <td>10/2/15</td>\n",
       "      <td>65100</td>\n",
       "      <td>2498</td>\n",
       "      <td>38</td>\n",
       "      <td>0.94</td>\n",
       "      <td>756.37</td>\n",
       "      <td>ad_group_1</td>\n",
       "      <td>0.038372</td>\n",
       "      <td>0.015212</td>\n",
       "      <td>2.522437</td>\n",
       "      <td>0.000584</td>\n",
       "    </tr>\n",
       "    <tr>\n",
       "      <th>2</th>\n",
       "      <td>10/3/15</td>\n",
       "      <td>70658</td>\n",
       "      <td>2313</td>\n",
       "      <td>49</td>\n",
       "      <td>0.86</td>\n",
       "      <td>970.90</td>\n",
       "      <td>ad_group_1</td>\n",
       "      <td>0.032735</td>\n",
       "      <td>0.021185</td>\n",
       "      <td>1.545233</td>\n",
       "      <td>0.000693</td>\n",
       "    </tr>\n",
       "    <tr>\n",
       "      <th>3</th>\n",
       "      <td>10/4/15</td>\n",
       "      <td>69809</td>\n",
       "      <td>2833</td>\n",
       "      <td>51</td>\n",
       "      <td>1.01</td>\n",
       "      <td>907.39</td>\n",
       "      <td>ad_group_1</td>\n",
       "      <td>0.040582</td>\n",
       "      <td>0.018002</td>\n",
       "      <td>2.254299</td>\n",
       "      <td>0.000731</td>\n",
       "    </tr>\n",
       "    <tr>\n",
       "      <th>4</th>\n",
       "      <td>10/5/15</td>\n",
       "      <td>68186</td>\n",
       "      <td>2696</td>\n",
       "      <td>41</td>\n",
       "      <td>1.00</td>\n",
       "      <td>879.45</td>\n",
       "      <td>ad_group_1</td>\n",
       "      <td>0.039539</td>\n",
       "      <td>0.015208</td>\n",
       "      <td>2.599924</td>\n",
       "      <td>0.000601</td>\n",
       "    </tr>\n",
       "  </tbody>\n",
       "</table>\n",
       "</div>"
      ],
      "text/plain": [
       "      date  shown  clicked  converted  avg_cost_per_click  total_revenue  \\\n",
       "0  10/1/15  65877     2339         43                0.90         641.62   \n",
       "1  10/2/15  65100     2498         38                0.94         756.37   \n",
       "2  10/3/15  70658     2313         49                0.86         970.90   \n",
       "3  10/4/15  69809     2833         51                1.01         907.39   \n",
       "4  10/5/15  68186     2696         41                1.00         879.45   \n",
       "\n",
       "           ad  shown_click  click_convert  sc_cc_ratio  shown_convert  \n",
       "0  ad_group_1     0.035506       0.018384     1.931338       0.000653  \n",
       "1  ad_group_1     0.038372       0.015212     2.522437       0.000584  \n",
       "2  ad_group_1     0.032735       0.021185     1.545233       0.000693  \n",
       "3  ad_group_1     0.040582       0.018002     2.254299       0.000731  \n",
       "4  ad_group_1     0.039539       0.015208     2.599924       0.000601  "
      ]
     },
     "execution_count": 7,
     "metadata": {},
     "output_type": "execute_result"
    }
   ],
   "source": [
    "data.head()"
   ]
  },
  {
   "cell_type": "code",
   "execution_count": 8,
   "metadata": {},
   "outputs": [
    {
     "data": {
      "text/plain": [
       "ad\n",
       "ad_group_18    0.098911\n",
       "ad_group_19    0.096701\n",
       "ad_group_3     0.093913\n",
       "ad_group_26    0.090668\n",
       "ad_group_28    0.088911\n",
       "ad_group_32    0.088432\n",
       "ad_group_7     0.086698\n",
       "ad_group_13    0.086342\n",
       "ad_group_4     0.083558\n",
       "ad_group_34    0.083258\n",
       "Name: shown_click, dtype: float64"
      ]
     },
     "execution_count": 8,
     "metadata": {},
     "output_type": "execute_result"
    }
   ],
   "source": [
    "# Top ads shown_click (first view)\n",
    "ad_shown_click = data.groupby('ad', sort=False)['shown_click'].median()\n",
    "ad_shown_click.sort_values(ascending = False)[:10]"
   ]
  },
  {
   "cell_type": "code",
   "execution_count": 9,
   "metadata": {},
   "outputs": [
    {
     "data": {
      "text/plain": [
       "ad\n",
       "ad_group_2     0.102282\n",
       "ad_group_13    0.095186\n",
       "ad_group_12    0.091310\n",
       "ad_group_16    0.088592\n",
       "ad_group_34    0.087349\n",
       "ad_group_31    0.087149\n",
       "ad_group_14    0.083311\n",
       "ad_group_18    0.072533\n",
       "ad_group_5     0.063658\n",
       "ad_group_4     0.062871\n",
       "Name: click_convert, dtype: float64"
      ]
     },
     "execution_count": 9,
     "metadata": {},
     "output_type": "execute_result"
    }
   ],
   "source": [
    "# Top ads click_convert (second view)\n",
    "ad_click_convert = data.groupby('ad', sort = False)['click_convert'].median()\n",
    "ad_click_convert.sort_values(ascending = False)[:10]"
   ]
  },
  {
   "cell_type": "code",
   "execution_count": 10,
   "metadata": {},
   "outputs": [
    {
     "data": {
      "text/plain": [
       "ad\n",
       "ad_group_25          inf\n",
       "ad_group_39    33.995225\n",
       "ad_group_3     25.342567\n",
       "ad_group_7     17.308569\n",
       "ad_group_32    11.295939\n",
       "ad_group_38     8.957002\n",
       "ad_group_35     6.551912\n",
       "ad_group_29     4.367142\n",
       "ad_group_19     3.715883\n",
       "ad_group_28     2.881724\n",
       "Name: sc_cc_ratio, dtype: float64"
      ]
     },
     "execution_count": 10,
     "metadata": {},
     "output_type": "execute_result"
    }
   ],
   "source": [
    "# Top ads first:second ratio or shown_click attacts customers but no conversion \n",
    "ad_first_second = data.groupby('ad', sort = False)['sc_cc_ratio'].median()\n",
    "ad_first_second.sort_values(ascending = False)[:10]"
   ]
  },
  {
   "cell_type": "code",
   "execution_count": 11,
   "metadata": {},
   "outputs": [
    {
     "data": {
      "text/plain": [
       "ad\n",
       "ad_group_31    0.058451\n",
       "ad_group_36    0.179236\n",
       "ad_group_21    0.180708\n",
       "ad_group_2     0.219871\n",
       "ad_group_27    0.263116\n",
       "ad_group_16    0.288643\n",
       "ad_group_14    0.369180\n",
       "ad_group_15    0.477864\n",
       "ad_group_9     0.492999\n",
       "ad_group_40    0.605134\n",
       "Name: sc_cc_ratio, dtype: float64"
      ]
     },
     "execution_count": 11,
     "metadata": {},
     "output_type": "execute_result"
    }
   ],
   "source": [
    "# Top ads first:second ratio minimum or click_convert attacts customers with not much shown_click \n",
    "ad_first_second = data.groupby('ad', sort = False)['sc_cc_ratio'].median()\n",
    "ad_first_second.sort_values(ascending = True)[:10]"
   ]
  },
  {
   "cell_type": "code",
   "execution_count": null,
   "metadata": {},
   "outputs": [],
   "source": []
  }
 ],
 "metadata": {
  "kernelspec": {
   "display_name": "Python 3",
   "language": "python",
   "name": "python3"
  },
  "language_info": {
   "codemirror_mode": {
    "name": "ipython",
    "version": 3
   },
   "file_extension": ".py",
   "mimetype": "text/x-python",
   "name": "python",
   "nbconvert_exporter": "python",
   "pygments_lexer": "ipython3",
   "version": "3.8.5"
  }
 },
 "nbformat": 4,
 "nbformat_minor": 4
}
