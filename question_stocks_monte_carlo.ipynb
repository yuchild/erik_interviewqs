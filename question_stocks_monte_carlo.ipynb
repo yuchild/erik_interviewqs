{
 "cells": [
  {
   "cell_type": "code",
   "execution_count": 38,
   "metadata": {},
   "outputs": [],
   "source": [
    "# pip3 install pandas-datareader\n",
    "import pandas_datareader.data as web"
   ]
  },
  {
   "cell_type": "code",
   "execution_count": 19,
   "metadata": {},
   "outputs": [],
   "source": [
    "import pandas as pd # pip3 install pandas on terminal \n",
    "import numpy as np # pip3 install numpy \n",
    "import matplotlib.pyplot as plt # pip3 install matplotlib\n",
    "plt.style.use('fivethirtyeight') # comment here"
   ]
  },
  {
   "cell_type": "code",
   "execution_count": 64,
   "metadata": {},
   "outputs": [
    {
     "data": {
      "text/html": [
       "<div>\n",
       "<style scoped>\n",
       "    .dataframe tbody tr th:only-of-type {\n",
       "        vertical-align: middle;\n",
       "    }\n",
       "\n",
       "    .dataframe tbody tr th {\n",
       "        vertical-align: top;\n",
       "    }\n",
       "\n",
       "    .dataframe thead th {\n",
       "        text-align: right;\n",
       "    }\n",
       "</style>\n",
       "<table border=\"1\" class=\"dataframe\">\n",
       "  <thead>\n",
       "    <tr style=\"text-align: right;\">\n",
       "      <th></th>\n",
       "      <th>Date</th>\n",
       "      <th>High</th>\n",
       "      <th>Low</th>\n",
       "      <th>Open</th>\n",
       "      <th>Close</th>\n",
       "      <th>Volume</th>\n",
       "      <th>Adj Close</th>\n",
       "    </tr>\n",
       "  </thead>\n",
       "  <tbody>\n",
       "    <tr>\n",
       "      <th>0</th>\n",
       "      <td>1990-01-02</td>\n",
       "      <td>0.334821</td>\n",
       "      <td>0.312500</td>\n",
       "      <td>0.314732</td>\n",
       "      <td>0.332589</td>\n",
       "      <td>183198400.0</td>\n",
       "      <td>0.265909</td>\n",
       "    </tr>\n",
       "    <tr>\n",
       "      <th>1</th>\n",
       "      <td>1990-01-03</td>\n",
       "      <td>0.339286</td>\n",
       "      <td>0.334821</td>\n",
       "      <td>0.339286</td>\n",
       "      <td>0.334821</td>\n",
       "      <td>207995200.0</td>\n",
       "      <td>0.267693</td>\n",
       "    </tr>\n",
       "    <tr>\n",
       "      <th>2</th>\n",
       "      <td>1990-01-04</td>\n",
       "      <td>0.345982</td>\n",
       "      <td>0.332589</td>\n",
       "      <td>0.341518</td>\n",
       "      <td>0.335938</td>\n",
       "      <td>221513600.0</td>\n",
       "      <td>0.268586</td>\n",
       "    </tr>\n",
       "    <tr>\n",
       "      <th>3</th>\n",
       "      <td>1990-01-05</td>\n",
       "      <td>0.341518</td>\n",
       "      <td>0.330357</td>\n",
       "      <td>0.337054</td>\n",
       "      <td>0.337054</td>\n",
       "      <td>123312000.0</td>\n",
       "      <td>0.269478</td>\n",
       "    </tr>\n",
       "    <tr>\n",
       "      <th>4</th>\n",
       "      <td>1990-01-08</td>\n",
       "      <td>0.339286</td>\n",
       "      <td>0.330357</td>\n",
       "      <td>0.334821</td>\n",
       "      <td>0.339286</td>\n",
       "      <td>101572800.0</td>\n",
       "      <td>0.271263</td>\n",
       "    </tr>\n",
       "  </tbody>\n",
       "</table>\n",
       "</div>"
      ],
      "text/plain": [
       "        Date      High       Low      Open     Close       Volume  Adj Close\n",
       "0 1990-01-02  0.334821  0.312500  0.314732  0.332589  183198400.0   0.265909\n",
       "1 1990-01-03  0.339286  0.334821  0.339286  0.334821  207995200.0   0.267693\n",
       "2 1990-01-04  0.345982  0.332589  0.341518  0.335938  221513600.0   0.268586\n",
       "3 1990-01-05  0.341518  0.330357  0.337054  0.337054  123312000.0   0.269478\n",
       "4 1990-01-08  0.339286  0.330357  0.334821  0.339286  101572800.0   0.271263"
      ]
     },
     "execution_count": 64,
     "metadata": {},
     "output_type": "execute_result"
    }
   ],
   "source": [
    "apple = web.DataReader('aapl'\n",
    "                         , 'yahoo'\n",
    "                         , start = '12/31/1989'\n",
    "                        ).reset_index()\n",
    "apple.head()"
   ]
  },
  {
   "cell_type": "code",
   "execution_count": 65,
   "metadata": {},
   "outputs": [
    {
     "data": {
      "text/plain": [
       "(7777, 7)"
      ]
     },
     "execution_count": 65,
     "metadata": {},
     "output_type": "execute_result"
    }
   ],
   "source": [
    "apple.shape"
   ]
  },
  {
   "cell_type": "code",
   "execution_count": 66,
   "metadata": {},
   "outputs": [
    {
     "name": "stdout",
     "output_type": "stream",
     "text": [
      "<class 'pandas.core.frame.DataFrame'>\n",
      "RangeIndex: 7777 entries, 0 to 7776\n",
      "Data columns (total 7 columns):\n",
      " #   Column     Non-Null Count  Dtype         \n",
      "---  ------     --------------  -----         \n",
      " 0   Date       7777 non-null   datetime64[ns]\n",
      " 1   High       7777 non-null   float64       \n",
      " 2   Low        7777 non-null   float64       \n",
      " 3   Open       7777 non-null   float64       \n",
      " 4   Close      7777 non-null   float64       \n",
      " 5   Volume     7777 non-null   float64       \n",
      " 6   Adj Close  7777 non-null   float64       \n",
      "dtypes: datetime64[ns](1), float64(6)\n",
      "memory usage: 425.4 KB\n"
     ]
    }
   ],
   "source": [
    "apple.info()"
   ]
  },
  {
   "cell_type": "code",
   "execution_count": 67,
   "metadata": {},
   "outputs": [
    {
     "data": {
      "text/plain": [
       "datetime.datetime(1996, 1, 1, 0, 0)"
      ]
     },
     "execution_count": 67,
     "metadata": {},
     "output_type": "execute_result"
    }
   ],
   "source": [
    "import datetime as dt\n",
    "start = dt.datetime(1996, 1, 1)\n",
    "start"
   ]
  },
  {
   "cell_type": "code",
   "execution_count": 68,
   "metadata": {},
   "outputs": [
    {
     "data": {
      "text/html": [
       "<div>\n",
       "<style scoped>\n",
       "    .dataframe tbody tr th:only-of-type {\n",
       "        vertical-align: middle;\n",
       "    }\n",
       "\n",
       "    .dataframe tbody tr th {\n",
       "        vertical-align: top;\n",
       "    }\n",
       "\n",
       "    .dataframe thead th {\n",
       "        text-align: right;\n",
       "    }\n",
       "</style>\n",
       "<table border=\"1\" class=\"dataframe\">\n",
       "  <thead>\n",
       "    <tr style=\"text-align: right;\">\n",
       "      <th></th>\n",
       "      <th>Date</th>\n",
       "      <th>High</th>\n",
       "      <th>Low</th>\n",
       "      <th>Open</th>\n",
       "      <th>Close</th>\n",
       "      <th>Volume</th>\n",
       "      <th>Adj Close</th>\n",
       "    </tr>\n",
       "  </thead>\n",
       "  <tbody>\n",
       "    <tr>\n",
       "      <th>0</th>\n",
       "      <td>1990-01-02</td>\n",
       "      <td>0.616319</td>\n",
       "      <td>0.598090</td>\n",
       "      <td>0.605903</td>\n",
       "      <td>0.616319</td>\n",
       "      <td>53033600.0</td>\n",
       "      <td>0.393385</td>\n",
       "    </tr>\n",
       "    <tr>\n",
       "      <th>1</th>\n",
       "      <td>1990-01-03</td>\n",
       "      <td>0.626736</td>\n",
       "      <td>0.614583</td>\n",
       "      <td>0.621528</td>\n",
       "      <td>0.619792</td>\n",
       "      <td>113772800.0</td>\n",
       "      <td>0.395601</td>\n",
       "    </tr>\n",
       "    <tr>\n",
       "      <th>2</th>\n",
       "      <td>1990-01-04</td>\n",
       "      <td>0.638889</td>\n",
       "      <td>0.616319</td>\n",
       "      <td>0.619792</td>\n",
       "      <td>0.638021</td>\n",
       "      <td>125740800.0</td>\n",
       "      <td>0.407236</td>\n",
       "    </tr>\n",
       "    <tr>\n",
       "      <th>3</th>\n",
       "      <td>1990-01-05</td>\n",
       "      <td>0.638889</td>\n",
       "      <td>0.621528</td>\n",
       "      <td>0.635417</td>\n",
       "      <td>0.622396</td>\n",
       "      <td>69564800.0</td>\n",
       "      <td>0.397263</td>\n",
       "    </tr>\n",
       "    <tr>\n",
       "      <th>4</th>\n",
       "      <td>1990-01-08</td>\n",
       "      <td>0.631944</td>\n",
       "      <td>0.614583</td>\n",
       "      <td>0.621528</td>\n",
       "      <td>0.631944</td>\n",
       "      <td>58982400.0</td>\n",
       "      <td>0.403358</td>\n",
       "    </tr>\n",
       "  </tbody>\n",
       "</table>\n",
       "</div>"
      ],
      "text/plain": [
       "        Date      High       Low      Open     Close       Volume  Adj Close\n",
       "0 1990-01-02  0.616319  0.598090  0.605903  0.616319   53033600.0   0.393385\n",
       "1 1990-01-03  0.626736  0.614583  0.621528  0.619792  113772800.0   0.395601\n",
       "2 1990-01-04  0.638889  0.616319  0.619792  0.638021  125740800.0   0.407236\n",
       "3 1990-01-05  0.638889  0.621528  0.635417  0.622396   69564800.0   0.397263\n",
       "4 1990-01-08  0.631944  0.614583  0.621528  0.631944   58982400.0   0.403358"
      ]
     },
     "execution_count": 68,
     "metadata": {},
     "output_type": "execute_result"
    }
   ],
   "source": [
    "micro = web.DataReader('msft'\n",
    "                        , 'yahoo'\n",
    "                        , start = '12/31/1989'\n",
    "                       ).reset_index()\n",
    "micro.head()"
   ]
  },
  {
   "cell_type": "code",
   "execution_count": 69,
   "metadata": {},
   "outputs": [
    {
     "data": {
      "text/plain": [
       "(7777, 7)"
      ]
     },
     "execution_count": 69,
     "metadata": {},
     "output_type": "execute_result"
    }
   ],
   "source": [
    "micro.shape"
   ]
  },
  {
   "cell_type": "code",
   "execution_count": 70,
   "metadata": {},
   "outputs": [
    {
     "data": {
      "text/html": [
       "<div>\n",
       "<style scoped>\n",
       "    .dataframe tbody tr th:only-of-type {\n",
       "        vertical-align: middle;\n",
       "    }\n",
       "\n",
       "    .dataframe tbody tr th {\n",
       "        vertical-align: top;\n",
       "    }\n",
       "\n",
       "    .dataframe thead th {\n",
       "        text-align: right;\n",
       "    }\n",
       "</style>\n",
       "<table border=\"1\" class=\"dataframe\">\n",
       "  <thead>\n",
       "    <tr style=\"text-align: right;\">\n",
       "      <th></th>\n",
       "      <th>Date</th>\n",
       "      <th>High</th>\n",
       "      <th>Low</th>\n",
       "      <th>Open</th>\n",
       "      <th>Close</th>\n",
       "      <th>Volume</th>\n",
       "      <th>Adj Close</th>\n",
       "    </tr>\n",
       "  </thead>\n",
       "  <tbody>\n",
       "    <tr>\n",
       "      <th>0</th>\n",
       "      <td>1990-01-02</td>\n",
       "      <td>24.53125</td>\n",
       "      <td>23.62500</td>\n",
       "      <td>23.68750</td>\n",
       "      <td>24.50000</td>\n",
       "      <td>7041600.0</td>\n",
       "      <td>12.057833</td>\n",
       "    </tr>\n",
       "    <tr>\n",
       "      <th>1</th>\n",
       "      <td>1990-01-03</td>\n",
       "      <td>24.87500</td>\n",
       "      <td>24.59375</td>\n",
       "      <td>24.68750</td>\n",
       "      <td>24.71875</td>\n",
       "      <td>9464000.0</td>\n",
       "      <td>12.165504</td>\n",
       "    </tr>\n",
       "    <tr>\n",
       "      <th>2</th>\n",
       "      <td>1990-01-04</td>\n",
       "      <td>25.09375</td>\n",
       "      <td>24.71875</td>\n",
       "      <td>24.75000</td>\n",
       "      <td>25.00000</td>\n",
       "      <td>9674800.0</td>\n",
       "      <td>12.303916</td>\n",
       "    </tr>\n",
       "    <tr>\n",
       "      <th>3</th>\n",
       "      <td>1990-01-05</td>\n",
       "      <td>25.40625</td>\n",
       "      <td>24.87500</td>\n",
       "      <td>24.96875</td>\n",
       "      <td>24.93750</td>\n",
       "      <td>7570000.0</td>\n",
       "      <td>12.273159</td>\n",
       "    </tr>\n",
       "    <tr>\n",
       "      <th>4</th>\n",
       "      <td>1990-01-08</td>\n",
       "      <td>25.21875</td>\n",
       "      <td>24.81250</td>\n",
       "      <td>24.81250</td>\n",
       "      <td>25.09375</td>\n",
       "      <td>4625200.0</td>\n",
       "      <td>12.350060</td>\n",
       "    </tr>\n",
       "  </tbody>\n",
       "</table>\n",
       "</div>"
      ],
      "text/plain": [
       "        Date      High       Low      Open     Close     Volume  Adj Close\n",
       "0 1990-01-02  24.53125  23.62500  23.68750  24.50000  7041600.0  12.057833\n",
       "1 1990-01-03  24.87500  24.59375  24.68750  24.71875  9464000.0  12.165504\n",
       "2 1990-01-04  25.09375  24.71875  24.75000  25.00000  9674800.0  12.303916\n",
       "3 1990-01-05  25.40625  24.87500  24.96875  24.93750  7570000.0  12.273159\n",
       "4 1990-01-08  25.21875  24.81250  24.81250  25.09375  4625200.0  12.350060"
      ]
     },
     "execution_count": 70,
     "metadata": {},
     "output_type": "execute_result"
    }
   ],
   "source": [
    "ibm = web.DataReader('ibm'\n",
    "                        , 'yahoo'\n",
    "                        , start = '12/31/1989'\n",
    "                       ).reset_index()\n",
    "ibm.head()"
   ]
  },
  {
   "cell_type": "code",
   "execution_count": 71,
   "metadata": {},
   "outputs": [
    {
     "data": {
      "text/plain": [
       "(7777, 7)"
      ]
     },
     "execution_count": 71,
     "metadata": {},
     "output_type": "execute_result"
    }
   ],
   "source": [
    "ibm.shape"
   ]
  },
  {
   "cell_type": "code",
   "execution_count": 72,
   "metadata": {},
   "outputs": [
    {
     "data": {
      "text/html": [
       "<div>\n",
       "<style scoped>\n",
       "    .dataframe tbody tr th:only-of-type {\n",
       "        vertical-align: middle;\n",
       "    }\n",
       "\n",
       "    .dataframe tbody tr th {\n",
       "        vertical-align: top;\n",
       "    }\n",
       "\n",
       "    .dataframe thead th {\n",
       "        text-align: right;\n",
       "    }\n",
       "</style>\n",
       "<table border=\"1\" class=\"dataframe\">\n",
       "  <thead>\n",
       "    <tr style=\"text-align: right;\">\n",
       "      <th></th>\n",
       "      <th>Date</th>\n",
       "      <th>High</th>\n",
       "      <th>Low</th>\n",
       "      <th>Open</th>\n",
       "      <th>Close</th>\n",
       "      <th>Volume</th>\n",
       "      <th>Adj Close</th>\n",
       "    </tr>\n",
       "  </thead>\n",
       "  <tbody>\n",
       "    <tr>\n",
       "      <th>0</th>\n",
       "      <td>1990-01-02</td>\n",
       "      <td>1.125000</td>\n",
       "      <td>1.062500</td>\n",
       "      <td>1.078125</td>\n",
       "      <td>1.125000</td>\n",
       "      <td>63833600.0</td>\n",
       "      <td>0.693848</td>\n",
       "    </tr>\n",
       "    <tr>\n",
       "      <th>1</th>\n",
       "      <td>1990-01-03</td>\n",
       "      <td>1.132812</td>\n",
       "      <td>1.093750</td>\n",
       "      <td>1.125000</td>\n",
       "      <td>1.093750</td>\n",
       "      <td>69504000.0</td>\n",
       "      <td>0.674574</td>\n",
       "    </tr>\n",
       "    <tr>\n",
       "      <th>2</th>\n",
       "      <td>1990-01-04</td>\n",
       "      <td>1.125000</td>\n",
       "      <td>1.078125</td>\n",
       "      <td>1.101562</td>\n",
       "      <td>1.117188</td>\n",
       "      <td>58483200.0</td>\n",
       "      <td>0.689029</td>\n",
       "    </tr>\n",
       "    <tr>\n",
       "      <th>3</th>\n",
       "      <td>1990-01-05</td>\n",
       "      <td>1.125000</td>\n",
       "      <td>1.101562</td>\n",
       "      <td>1.117188</td>\n",
       "      <td>1.109375</td>\n",
       "      <td>37036800.0</td>\n",
       "      <td>0.684211</td>\n",
       "    </tr>\n",
       "    <tr>\n",
       "      <th>4</th>\n",
       "      <td>1990-01-08</td>\n",
       "      <td>1.132812</td>\n",
       "      <td>1.109375</td>\n",
       "      <td>1.117188</td>\n",
       "      <td>1.125000</td>\n",
       "      <td>43305600.0</td>\n",
       "      <td>0.693848</td>\n",
       "    </tr>\n",
       "  </tbody>\n",
       "</table>\n",
       "</div>"
      ],
      "text/plain": [
       "        Date      High       Low      Open     Close      Volume  Adj Close\n",
       "0 1990-01-02  1.125000  1.062500  1.078125  1.125000  63833600.0   0.693848\n",
       "1 1990-01-03  1.132812  1.093750  1.125000  1.093750  69504000.0   0.674574\n",
       "2 1990-01-04  1.125000  1.078125  1.101562  1.117188  58483200.0   0.689029\n",
       "3 1990-01-05  1.125000  1.101562  1.117188  1.109375  37036800.0   0.684211\n",
       "4 1990-01-08  1.132812  1.109375  1.117188  1.125000  43305600.0   0.693848"
      ]
     },
     "execution_count": 72,
     "metadata": {},
     "output_type": "execute_result"
    }
   ],
   "source": [
    "intel = web.DataReader('intc'\n",
    "                        , 'yahoo'\n",
    "                        , start = '12/31/1989'\n",
    "                       ).reset_index()\n",
    "intel.head()"
   ]
  },
  {
   "cell_type": "code",
   "execution_count": 73,
   "metadata": {},
   "outputs": [
    {
     "data": {
      "text/plain": [
       "(7777, 7)"
      ]
     },
     "execution_count": 73,
     "metadata": {},
     "output_type": "execute_result"
    }
   ],
   "source": [
    "intel.shape"
   ]
  },
  {
   "cell_type": "code",
   "execution_count": 74,
   "metadata": {},
   "outputs": [
    {
     "data": {
      "text/html": [
       "<div>\n",
       "<style scoped>\n",
       "    .dataframe tbody tr th:only-of-type {\n",
       "        vertical-align: middle;\n",
       "    }\n",
       "\n",
       "    .dataframe tbody tr th {\n",
       "        vertical-align: top;\n",
       "    }\n",
       "\n",
       "    .dataframe thead th {\n",
       "        text-align: right;\n",
       "    }\n",
       "</style>\n",
       "<table border=\"1\" class=\"dataframe\">\n",
       "  <thead>\n",
       "    <tr style=\"text-align: right;\">\n",
       "      <th></th>\n",
       "      <th>Date</th>\n",
       "      <th>High</th>\n",
       "      <th>Low</th>\n",
       "      <th>Open</th>\n",
       "      <th>Close</th>\n",
       "      <th>Volume</th>\n",
       "      <th>Adj Close</th>\n",
       "    </tr>\n",
       "  </thead>\n",
       "  <tbody>\n",
       "    <tr>\n",
       "      <th>0</th>\n",
       "      <td>1990-01-02</td>\n",
       "      <td>4.1250</td>\n",
       "      <td>3.8125</td>\n",
       "      <td>3.9375</td>\n",
       "      <td>4.1250</td>\n",
       "      <td>2544000.0</td>\n",
       "      <td>4.1250</td>\n",
       "    </tr>\n",
       "    <tr>\n",
       "      <th>1</th>\n",
       "      <td>1990-01-03</td>\n",
       "      <td>4.1250</td>\n",
       "      <td>3.9375</td>\n",
       "      <td>4.0625</td>\n",
       "      <td>4.0000</td>\n",
       "      <td>686800.0</td>\n",
       "      <td>4.0000</td>\n",
       "    </tr>\n",
       "    <tr>\n",
       "      <th>2</th>\n",
       "      <td>1990-01-04</td>\n",
       "      <td>4.0625</td>\n",
       "      <td>3.8750</td>\n",
       "      <td>4.0000</td>\n",
       "      <td>3.9375</td>\n",
       "      <td>944200.0</td>\n",
       "      <td>3.9375</td>\n",
       "    </tr>\n",
       "    <tr>\n",
       "      <th>3</th>\n",
       "      <td>1990-01-05</td>\n",
       "      <td>3.8125</td>\n",
       "      <td>3.6875</td>\n",
       "      <td>3.8125</td>\n",
       "      <td>3.8125</td>\n",
       "      <td>1511000.0</td>\n",
       "      <td>3.8125</td>\n",
       "    </tr>\n",
       "    <tr>\n",
       "      <th>4</th>\n",
       "      <td>1990-01-08</td>\n",
       "      <td>3.8125</td>\n",
       "      <td>3.7500</td>\n",
       "      <td>3.8125</td>\n",
       "      <td>3.8125</td>\n",
       "      <td>477000.0</td>\n",
       "      <td>3.8125</td>\n",
       "    </tr>\n",
       "  </tbody>\n",
       "</table>\n",
       "</div>"
      ],
      "text/plain": [
       "        Date    High     Low    Open   Close     Volume  Adj Close\n",
       "0 1990-01-02  4.1250  3.8125  3.9375  4.1250  2544000.0     4.1250\n",
       "1 1990-01-03  4.1250  3.9375  4.0625  4.0000   686800.0     4.0000\n",
       "2 1990-01-04  4.0625  3.8750  4.0000  3.9375   944200.0     3.9375\n",
       "3 1990-01-05  3.8125  3.6875  3.8125  3.8125  1511000.0     3.8125\n",
       "4 1990-01-08  3.8125  3.7500  3.8125  3.8125   477000.0     3.8125"
      ]
     },
     "execution_count": 74,
     "metadata": {},
     "output_type": "execute_result"
    }
   ],
   "source": [
    "amd = web.DataReader('amd'\n",
    "                        , 'yahoo'\n",
    "                        , start = '12/31/1989'\n",
    "                       ).reset_index()\n",
    "amd.head()"
   ]
  },
  {
   "cell_type": "code",
   "execution_count": 75,
   "metadata": {},
   "outputs": [
    {
     "data": {
      "text/plain": [
       "(7777, 7)"
      ]
     },
     "execution_count": 75,
     "metadata": {},
     "output_type": "execute_result"
    }
   ],
   "source": [
    "amd.shape"
   ]
  },
  {
   "cell_type": "code",
   "execution_count": 80,
   "metadata": {},
   "outputs": [
    {
     "data": {
      "text/html": [
       "<div>\n",
       "<style scoped>\n",
       "    .dataframe tbody tr th:only-of-type {\n",
       "        vertical-align: middle;\n",
       "    }\n",
       "\n",
       "    .dataframe tbody tr th {\n",
       "        vertical-align: top;\n",
       "    }\n",
       "\n",
       "    .dataframe thead th {\n",
       "        text-align: right;\n",
       "    }\n",
       "</style>\n",
       "<table border=\"1\" class=\"dataframe\">\n",
       "  <thead>\n",
       "    <tr style=\"text-align: right;\">\n",
       "      <th></th>\n",
       "      <th>Date</th>\n",
       "      <th>High</th>\n",
       "      <th>Low</th>\n",
       "      <th>Open</th>\n",
       "      <th>Close</th>\n",
       "      <th>Volume</th>\n",
       "      <th>Adj Close</th>\n",
       "    </tr>\n",
       "  </thead>\n",
       "  <tbody>\n",
       "    <tr>\n",
       "      <th>0</th>\n",
       "      <td>1990-01-02</td>\n",
       "      <td>0.598765</td>\n",
       "      <td>0.567901</td>\n",
       "      <td>0.577160</td>\n",
       "      <td>0.595679</td>\n",
       "      <td>35510400.0</td>\n",
       "      <td>0.511959</td>\n",
       "    </tr>\n",
       "    <tr>\n",
       "      <th>1</th>\n",
       "      <td>1990-01-03</td>\n",
       "      <td>0.601852</td>\n",
       "      <td>0.527778</td>\n",
       "      <td>0.595679</td>\n",
       "      <td>0.530864</td>\n",
       "      <td>179844000.0</td>\n",
       "      <td>0.456254</td>\n",
       "    </tr>\n",
       "    <tr>\n",
       "      <th>2</th>\n",
       "      <td>1990-01-04</td>\n",
       "      <td>0.546296</td>\n",
       "      <td>0.518519</td>\n",
       "      <td>0.530864</td>\n",
       "      <td>0.546296</td>\n",
       "      <td>125278000.0</td>\n",
       "      <td>0.469517</td>\n",
       "    </tr>\n",
       "    <tr>\n",
       "      <th>3</th>\n",
       "      <td>1990-01-05</td>\n",
       "      <td>0.546296</td>\n",
       "      <td>0.509259</td>\n",
       "      <td>0.546296</td>\n",
       "      <td>0.515432</td>\n",
       "      <td>51017200.0</td>\n",
       "      <td>0.442991</td>\n",
       "    </tr>\n",
       "    <tr>\n",
       "      <th>4</th>\n",
       "      <td>1990-01-08</td>\n",
       "      <td>0.540123</td>\n",
       "      <td>0.503086</td>\n",
       "      <td>0.515432</td>\n",
       "      <td>0.533951</td>\n",
       "      <td>33161200.0</td>\n",
       "      <td>0.458907</td>\n",
       "    </tr>\n",
       "  </tbody>\n",
       "</table>\n",
       "</div>"
      ],
      "text/plain": [
       "        Date      High       Low      Open     Close       Volume  Adj Close\n",
       "0 1990-01-02  0.598765  0.567901  0.577160  0.595679   35510400.0   0.511959\n",
       "1 1990-01-03  0.601852  0.527778  0.595679  0.530864  179844000.0   0.456254\n",
       "2 1990-01-04  0.546296  0.518519  0.530864  0.546296  125278000.0   0.469517\n",
       "3 1990-01-05  0.546296  0.509259  0.546296  0.515432   51017200.0   0.442991\n",
       "4 1990-01-08  0.540123  0.503086  0.515432  0.533951   33161200.0   0.458907"
      ]
     },
     "execution_count": 80,
     "metadata": {},
     "output_type": "execute_result"
    }
   ],
   "source": [
    "oracle = web.DataReader('orcl'\n",
    "                        , 'yahoo'\n",
    "                        , start = '12/31/1989'\n",
    "                       ).reset_index()\n",
    "oracle.head()"
   ]
  },
  {
   "cell_type": "code",
   "execution_count": 81,
   "metadata": {},
   "outputs": [
    {
     "data": {
      "text/plain": [
       "(7777, 7)"
      ]
     },
     "execution_count": 81,
     "metadata": {},
     "output_type": "execute_result"
    }
   ],
   "source": [
    "oracle.shape"
   ]
  },
  {
   "cell_type": "code",
   "execution_count": 82,
   "metadata": {},
   "outputs": [
    {
     "data": {
      "text/html": [
       "<div>\n",
       "<style scoped>\n",
       "    .dataframe tbody tr th:only-of-type {\n",
       "        vertical-align: middle;\n",
       "    }\n",
       "\n",
       "    .dataframe tbody tr th {\n",
       "        vertical-align: top;\n",
       "    }\n",
       "\n",
       "    .dataframe thead th {\n",
       "        text-align: right;\n",
       "    }\n",
       "</style>\n",
       "<table border=\"1\" class=\"dataframe\">\n",
       "  <thead>\n",
       "    <tr style=\"text-align: right;\">\n",
       "      <th></th>\n",
       "      <th>Date</th>\n",
       "      <th>High</th>\n",
       "      <th>Low</th>\n",
       "      <th>Open</th>\n",
       "      <th>Close</th>\n",
       "      <th>Volume</th>\n",
       "      <th>Adj Close</th>\n",
       "    </tr>\n",
       "  </thead>\n",
       "  <tbody>\n",
       "    <tr>\n",
       "      <th>0</th>\n",
       "      <td>1990-01-02</td>\n",
       "      <td>8.68750</td>\n",
       "      <td>8.56250</td>\n",
       "      <td>8.62500</td>\n",
       "      <td>8.62500</td>\n",
       "      <td>643200.0</td>\n",
       "      <td>3.366241</td>\n",
       "    </tr>\n",
       "    <tr>\n",
       "      <th>1</th>\n",
       "      <td>1990-01-03</td>\n",
       "      <td>8.56250</td>\n",
       "      <td>8.28125</td>\n",
       "      <td>8.56250</td>\n",
       "      <td>8.28125</td>\n",
       "      <td>318800.0</td>\n",
       "      <td>3.232078</td>\n",
       "    </tr>\n",
       "    <tr>\n",
       "      <th>2</th>\n",
       "      <td>1990-01-04</td>\n",
       "      <td>8.15625</td>\n",
       "      <td>8.03125</td>\n",
       "      <td>8.09375</td>\n",
       "      <td>8.06250</td>\n",
       "      <td>254000.0</td>\n",
       "      <td>3.146704</td>\n",
       "    </tr>\n",
       "    <tr>\n",
       "      <th>3</th>\n",
       "      <td>1990-01-05</td>\n",
       "      <td>8.12500</td>\n",
       "      <td>7.96875</td>\n",
       "      <td>8.00000</td>\n",
       "      <td>8.12500</td>\n",
       "      <td>185600.0</td>\n",
       "      <td>3.171097</td>\n",
       "    </tr>\n",
       "    <tr>\n",
       "      <th>4</th>\n",
       "      <td>1990-01-08</td>\n",
       "      <td>8.31250</td>\n",
       "      <td>8.03125</td>\n",
       "      <td>8.06250</td>\n",
       "      <td>8.31250</td>\n",
       "      <td>178400.0</td>\n",
       "      <td>3.244276</td>\n",
       "    </tr>\n",
       "  </tbody>\n",
       "</table>\n",
       "</div>"
      ],
      "text/plain": [
       "        Date     High      Low     Open    Close    Volume  Adj Close\n",
       "0 1990-01-02  8.68750  8.56250  8.62500  8.62500  643200.0   3.366241\n",
       "1 1990-01-03  8.56250  8.28125  8.56250  8.28125  318800.0   3.232078\n",
       "2 1990-01-04  8.15625  8.03125  8.09375  8.06250  254000.0   3.146704\n",
       "3 1990-01-05  8.12500  7.96875  8.00000  8.12500  185600.0   3.171097\n",
       "4 1990-01-08  8.31250  8.03125  8.06250  8.31250  178400.0   3.244276"
      ]
     },
     "execution_count": 82,
     "metadata": {},
     "output_type": "execute_result"
    }
   ],
   "source": [
    "hp = web.DataReader('hp'\n",
    "                        , 'yahoo'\n",
    "                        , start = '12/31/1989'\n",
    "                       ).reset_index()\n",
    "hp.head()"
   ]
  },
  {
   "cell_type": "code",
   "execution_count": 83,
   "metadata": {},
   "outputs": [
    {
     "data": {
      "text/plain": [
       "(7777, 7)"
      ]
     },
     "execution_count": 83,
     "metadata": {},
     "output_type": "execute_result"
    }
   ],
   "source": [
    "hp.shape"
   ]
  },
  {
   "cell_type": "code",
   "execution_count": null,
   "metadata": {},
   "outputs": [],
   "source": []
  },
  {
   "cell_type": "code",
   "execution_count": null,
   "metadata": {},
   "outputs": [],
   "source": []
  },
  {
   "cell_type": "code",
   "execution_count": null,
   "metadata": {},
   "outputs": [],
   "source": []
  },
  {
   "cell_type": "code",
   "execution_count": null,
   "metadata": {},
   "outputs": [],
   "source": []
  },
  {
   "cell_type": "code",
   "execution_count": null,
   "metadata": {},
   "outputs": [],
   "source": []
  },
  {
   "cell_type": "code",
   "execution_count": null,
   "metadata": {},
   "outputs": [],
   "source": []
  },
  {
   "cell_type": "code",
   "execution_count": null,
   "metadata": {},
   "outputs": [],
   "source": []
  },
  {
   "cell_type": "code",
   "execution_count": null,
   "metadata": {},
   "outputs": [],
   "source": []
  },
  {
   "cell_type": "code",
   "execution_count": null,
   "metadata": {},
   "outputs": [],
   "source": []
  },
  {
   "cell_type": "code",
   "execution_count": null,
   "metadata": {},
   "outputs": [],
   "source": []
  },
  {
   "cell_type": "code",
   "execution_count": 4,
   "metadata": {},
   "outputs": [
    {
     "data": {
      "text/html": [
       "<div>\n",
       "<style scoped>\n",
       "    .dataframe tbody tr th:only-of-type {\n",
       "        vertical-align: middle;\n",
       "    }\n",
       "\n",
       "    .dataframe tbody tr th {\n",
       "        vertical-align: top;\n",
       "    }\n",
       "\n",
       "    .dataframe thead th {\n",
       "        text-align: right;\n",
       "    }\n",
       "</style>\n",
       "<table border=\"1\" class=\"dataframe\">\n",
       "  <thead>\n",
       "    <tr style=\"text-align: right;\">\n",
       "      <th></th>\n",
       "      <th>Date</th>\n",
       "      <th>Close</th>\n",
       "    </tr>\n",
       "  </thead>\n",
       "  <tbody>\n",
       "    <tr>\n",
       "      <th>0</th>\n",
       "      <td>2008-12-31</td>\n",
       "      <td>3.048214</td>\n",
       "    </tr>\n",
       "    <tr>\n",
       "      <th>1</th>\n",
       "      <td>2009-01-02</td>\n",
       "      <td>3.241071</td>\n",
       "    </tr>\n",
       "    <tr>\n",
       "      <th>2</th>\n",
       "      <td>2009-01-05</td>\n",
       "      <td>3.377857</td>\n",
       "    </tr>\n",
       "    <tr>\n",
       "      <th>3</th>\n",
       "      <td>2009-01-06</td>\n",
       "      <td>3.322143</td>\n",
       "    </tr>\n",
       "    <tr>\n",
       "      <th>4</th>\n",
       "      <td>2009-01-07</td>\n",
       "      <td>3.250357</td>\n",
       "    </tr>\n",
       "  </tbody>\n",
       "</table>\n",
       "</div>"
      ],
      "text/plain": [
       "        Date     Close\n",
       "0 2008-12-31  3.048214\n",
       "1 2009-01-02  3.241071\n",
       "2 2009-01-05  3.377857\n",
       "3 2009-01-06  3.322143\n",
       "4 2009-01-07  3.250357"
      ]
     },
     "execution_count": 4,
     "metadata": {},
     "output_type": "execute_result"
    }
   ],
   "source": [
    "apple = apple[['Date', 'Close']]\n",
    "apple.head()"
   ]
  },
  {
   "cell_type": "code",
   "execution_count": 5,
   "metadata": {},
   "outputs": [
    {
     "data": {
      "image/png": "[encoded data removed]",
      "text/plain": [
       "<Figure size 432x288 with 1 Axes>"
      ]
     },
     "metadata": {},
     "output_type": "display_data"
    }
   ],
   "source": [
    "plt.plot(apple.Date\n",
    "         , apple.Close\n",
    "        );"
   ]
  },
  {
   "cell_type": "code",
   "execution_count": 6,
   "metadata": {},
   "outputs": [
    {
     "data": {
      "text/html": [
       "<div>\n",
       "<style scoped>\n",
       "    .dataframe tbody tr th:only-of-type {\n",
       "        vertical-align: middle;\n",
       "    }\n",
       "\n",
       "    .dataframe tbody tr th {\n",
       "        vertical-align: top;\n",
       "    }\n",
       "\n",
       "    .dataframe thead th {\n",
       "        text-align: right;\n",
       "    }\n",
       "</style>\n",
       "<table border=\"1\" class=\"dataframe\">\n",
       "  <thead>\n",
       "    <tr style=\"text-align: right;\">\n",
       "      <th></th>\n",
       "      <th>Date</th>\n",
       "      <th>Close</th>\n",
       "      <th>Previous_Close</th>\n",
       "    </tr>\n",
       "  </thead>\n",
       "  <tbody>\n",
       "    <tr>\n",
       "      <th>0</th>\n",
       "      <td>2008-12-31</td>\n",
       "      <td>3.048214</td>\n",
       "      <td>NaN</td>\n",
       "    </tr>\n",
       "    <tr>\n",
       "      <th>1</th>\n",
       "      <td>2009-01-02</td>\n",
       "      <td>3.241071</td>\n",
       "      <td>3.048214</td>\n",
       "    </tr>\n",
       "    <tr>\n",
       "      <th>2</th>\n",
       "      <td>2009-01-05</td>\n",
       "      <td>3.377857</td>\n",
       "      <td>3.241071</td>\n",
       "    </tr>\n",
       "    <tr>\n",
       "      <th>3</th>\n",
       "      <td>2009-01-06</td>\n",
       "      <td>3.322143</td>\n",
       "      <td>3.377857</td>\n",
       "    </tr>\n",
       "    <tr>\n",
       "      <th>4</th>\n",
       "      <td>2009-01-07</td>\n",
       "      <td>3.250357</td>\n",
       "      <td>3.322143</td>\n",
       "    </tr>\n",
       "  </tbody>\n",
       "</table>\n",
       "</div>"
      ],
      "text/plain": [
       "        Date     Close  Previous_Close\n",
       "0 2008-12-31  3.048214             NaN\n",
       "1 2009-01-02  3.241071        3.048214\n",
       "2 2009-01-05  3.377857        3.241071\n",
       "3 2009-01-06  3.322143        3.377857\n",
       "4 2009-01-07  3.250357        3.322143"
      ]
     },
     "execution_count": 6,
     "metadata": {},
     "output_type": "execute_result"
    }
   ],
   "source": [
    "apple['Previous_Close'] = apple.Close.shift(1)\n",
    "apple.head()"
   ]
  },
  {
   "cell_type": "code",
   "execution_count": 7,
   "metadata": {},
   "outputs": [
    {
     "data": {
      "text/html": [
       "<div>\n",
       "<style scoped>\n",
       "    .dataframe tbody tr th:only-of-type {\n",
       "        vertical-align: middle;\n",
       "    }\n",
       "\n",
       "    .dataframe tbody tr th {\n",
       "        vertical-align: top;\n",
       "    }\n",
       "\n",
       "    .dataframe thead th {\n",
       "        text-align: right;\n",
       "    }\n",
       "</style>\n",
       "<table border=\"1\" class=\"dataframe\">\n",
       "  <thead>\n",
       "    <tr style=\"text-align: right;\">\n",
       "      <th></th>\n",
       "      <th>Date</th>\n",
       "      <th>Close</th>\n",
       "      <th>Previous_Close</th>\n",
       "    </tr>\n",
       "  </thead>\n",
       "  <tbody>\n",
       "    <tr>\n",
       "      <th>1</th>\n",
       "      <td>2009-01-02</td>\n",
       "      <td>3.241071</td>\n",
       "      <td>3.048214</td>\n",
       "    </tr>\n",
       "    <tr>\n",
       "      <th>2</th>\n",
       "      <td>2009-01-05</td>\n",
       "      <td>3.377857</td>\n",
       "      <td>3.241071</td>\n",
       "    </tr>\n",
       "    <tr>\n",
       "      <th>3</th>\n",
       "      <td>2009-01-06</td>\n",
       "      <td>3.322143</td>\n",
       "      <td>3.377857</td>\n",
       "    </tr>\n",
       "    <tr>\n",
       "      <th>4</th>\n",
       "      <td>2009-01-07</td>\n",
       "      <td>3.250357</td>\n",
       "      <td>3.322143</td>\n",
       "    </tr>\n",
       "    <tr>\n",
       "      <th>5</th>\n",
       "      <td>2009-01-08</td>\n",
       "      <td>3.310714</td>\n",
       "      <td>3.250357</td>\n",
       "    </tr>\n",
       "  </tbody>\n",
       "</table>\n",
       "</div>"
      ],
      "text/plain": [
       "        Date     Close  Previous_Close\n",
       "1 2009-01-02  3.241071        3.048214\n",
       "2 2009-01-05  3.377857        3.241071\n",
       "3 2009-01-06  3.322143        3.377857\n",
       "4 2009-01-07  3.250357        3.322143\n",
       "5 2009-01-08  3.310714        3.250357"
      ]
     },
     "execution_count": 7,
     "metadata": {},
     "output_type": "execute_result"
    }
   ],
   "source": [
    "apple = apple.iloc[1:]\n",
    "apple.head()"
   ]
  },
  {
   "cell_type": "code",
   "execution_count": 8,
   "metadata": {},
   "outputs": [
    {
     "data": {
      "text/html": [
       "<div>\n",
       "<style scoped>\n",
       "    .dataframe tbody tr th:only-of-type {\n",
       "        vertical-align: middle;\n",
       "    }\n",
       "\n",
       "    .dataframe tbody tr th {\n",
       "        vertical-align: top;\n",
       "    }\n",
       "\n",
       "    .dataframe thead th {\n",
       "        text-align: right;\n",
       "    }\n",
       "</style>\n",
       "<table border=\"1\" class=\"dataframe\">\n",
       "  <thead>\n",
       "    <tr style=\"text-align: right;\">\n",
       "      <th></th>\n",
       "      <th>Date</th>\n",
       "      <th>Close</th>\n",
       "      <th>Previous_Close</th>\n",
       "      <th>PDR</th>\n",
       "    </tr>\n",
       "  </thead>\n",
       "  <tbody>\n",
       "    <tr>\n",
       "      <th>1</th>\n",
       "      <td>2009-01-02</td>\n",
       "      <td>3.241071</td>\n",
       "      <td>3.048214</td>\n",
       "      <td>0.061348</td>\n",
       "    </tr>\n",
       "    <tr>\n",
       "      <th>2</th>\n",
       "      <td>2009-01-05</td>\n",
       "      <td>3.377857</td>\n",
       "      <td>3.241071</td>\n",
       "      <td>0.041338</td>\n",
       "    </tr>\n",
       "    <tr>\n",
       "      <th>3</th>\n",
       "      <td>2009-01-06</td>\n",
       "      <td>3.322143</td>\n",
       "      <td>3.377857</td>\n",
       "      <td>-0.016632</td>\n",
       "    </tr>\n",
       "    <tr>\n",
       "      <th>4</th>\n",
       "      <td>2009-01-07</td>\n",
       "      <td>3.250357</td>\n",
       "      <td>3.322143</td>\n",
       "      <td>-0.021845</td>\n",
       "    </tr>\n",
       "    <tr>\n",
       "      <th>5</th>\n",
       "      <td>2009-01-08</td>\n",
       "      <td>3.310714</td>\n",
       "      <td>3.250357</td>\n",
       "      <td>0.018399</td>\n",
       "    </tr>\n",
       "  </tbody>\n",
       "</table>\n",
       "</div>"
      ],
      "text/plain": [
       "        Date     Close  Previous_Close       PDR\n",
       "1 2009-01-02  3.241071        3.048214  0.061348\n",
       "2 2009-01-05  3.377857        3.241071  0.041338\n",
       "3 2009-01-06  3.322143        3.377857 -0.016632\n",
       "4 2009-01-07  3.250357        3.322143 -0.021845\n",
       "5 2009-01-08  3.310714        3.250357  0.018399"
      ]
     },
     "execution_count": 8,
     "metadata": {},
     "output_type": "execute_result"
    }
   ],
   "source": [
    "# Calculate Periodic Daily Return\n",
    "apple['PDR'] = np.log(apple.Close / apple.Previous_Close)\n",
    "apple.head()"
   ]
  },
  {
   "cell_type": "code",
   "execution_count": 9,
   "metadata": {},
   "outputs": [
    {
     "data": {
      "text/plain": [
       "1.0"
      ]
     },
     "execution_count": 9,
     "metadata": {},
     "output_type": "execute_result"
    }
   ],
   "source": [
    "# Test np.log is ln(x)\n",
    "np.log(np.exp(1))"
   ]
  },
  {
   "cell_type": "code",
   "execution_count": 10,
   "metadata": {},
   "outputs": [
    {
     "data": {
      "text/plain": [
       "0.0010618644567390834"
      ]
     },
     "execution_count": 10,
     "metadata": {},
     "output_type": "execute_result"
    }
   ],
   "source": [
    "# Calculate Drift \n",
    "Drift = apple.PDR.mean() - apple.PDR.var() / 2\n",
    "# Drift = 0 # can use zero in this instance\n",
    "Drift"
   ]
  },
  {
   "cell_type": "code",
   "execution_count": 11,
   "metadata": {},
   "outputs": [
    {
     "data": {
      "text/plain": [
       "[0.8907536372012081,\n",
       " 0.4742617991094391,\n",
       " 0.7491325805893717,\n",
       " 0.8547548593809161,\n",
       " 0.6493988680204672,\n",
       " 0.2119203283980331,\n",
       " 0.11828589758354568,\n",
       " 0.04978327910198388,\n",
       " 0.43205056244895534,\n",
       " 0.06874239128210147]"
      ]
     },
     "execution_count": 11,
     "metadata": {},
     "output_type": "execute_result"
    }
   ],
   "source": [
    "# Import random\n",
    "import random\n",
    "# Test list of 10 random numbers\n",
    "[random.random() for _ in range(10)]"
   ]
  },
  {
   "cell_type": "code",
   "execution_count": 12,
   "metadata": {},
   "outputs": [
    {
     "data": {
      "text/html": [
       "<div>\n",
       "<style scoped>\n",
       "    .dataframe tbody tr th:only-of-type {\n",
       "        vertical-align: middle;\n",
       "    }\n",
       "\n",
       "    .dataframe tbody tr th {\n",
       "        vertical-align: top;\n",
       "    }\n",
       "\n",
       "    .dataframe thead th {\n",
       "        text-align: right;\n",
       "    }\n",
       "</style>\n",
       "<table border=\"1\" class=\"dataframe\">\n",
       "  <thead>\n",
       "    <tr style=\"text-align: right;\">\n",
       "      <th></th>\n",
       "      <th>Date</th>\n",
       "      <th>Close</th>\n",
       "      <th>Previous_Close</th>\n",
       "      <th>PDR</th>\n",
       "      <th>MC_Pred</th>\n",
       "    </tr>\n",
       "  </thead>\n",
       "  <tbody>\n",
       "    <tr>\n",
       "      <th>1</th>\n",
       "      <td>2009-01-02</td>\n",
       "      <td>3.241071</td>\n",
       "      <td>3.048214</td>\n",
       "      <td>0.061348</td>\n",
       "      <td>3.299593</td>\n",
       "    </tr>\n",
       "    <tr>\n",
       "      <th>2</th>\n",
       "      <td>2009-01-05</td>\n",
       "      <td>3.377857</td>\n",
       "      <td>3.241071</td>\n",
       "      <td>0.041338</td>\n",
       "      <td>3.425121</td>\n",
       "    </tr>\n",
       "    <tr>\n",
       "      <th>3</th>\n",
       "      <td>2009-01-06</td>\n",
       "      <td>3.322143</td>\n",
       "      <td>3.377857</td>\n",
       "      <td>-0.016632</td>\n",
       "      <td>3.366423</td>\n",
       "    </tr>\n",
       "    <tr>\n",
       "      <th>4</th>\n",
       "      <td>2009-01-07</td>\n",
       "      <td>3.250357</td>\n",
       "      <td>3.322143</td>\n",
       "      <td>-0.021845</td>\n",
       "      <td>3.381173</td>\n",
       "    </tr>\n",
       "    <tr>\n",
       "      <th>5</th>\n",
       "      <td>2009-01-08</td>\n",
       "      <td>3.310714</td>\n",
       "      <td>3.250357</td>\n",
       "      <td>0.018399</td>\n",
       "      <td>3.437270</td>\n",
       "    </tr>\n",
       "  </tbody>\n",
       "</table>\n",
       "</div>"
      ],
      "text/plain": [
       "        Date     Close  Previous_Close       PDR   MC_Pred\n",
       "1 2009-01-02  3.241071        3.048214  0.061348  3.299593\n",
       "2 2009-01-05  3.377857        3.241071  0.041338  3.425121\n",
       "3 2009-01-06  3.322143        3.377857 -0.016632  3.366423\n",
       "4 2009-01-07  3.250357        3.322143 -0.021845  3.381173\n",
       "5 2009-01-08  3.310714        3.250357  0.018399  3.437270"
      ]
     },
     "execution_count": 12,
     "metadata": {},
     "output_type": "execute_result"
    }
   ],
   "source": [
    "# Make Monte Carlo Predictions\n",
    "from scipy import stats\n",
    "sigma = apple.PDR.std()\n",
    "apple.MC_Pred = 0\n",
    "apple.loc[1, 'MC_Pred'] = apple.loc[1, 'Close'] * np.exp(Drift + sigma * stats.norm.ppf(random.random(), 0, 1))\n",
    "for i in range(2, len(apple)+1):\n",
    "    apple.loc[i, 'MC_Pred'] = apple.loc[i-1, 'MC_Pred'] * np.exp(Drift + sigma * stats.norm.ppf(random.random(), 0, 1))\n",
    "apple.head()"
   ]
  },
  {
   "cell_type": "code",
   "execution_count": 13,
   "metadata": {},
   "outputs": [
    {
     "name": "stdout",
     "output_type": "stream",
     "text": [
      "<class 'pandas.core.frame.DataFrame'>\n",
      "RangeIndex: 2984 entries, 1 to 2984\n",
      "Data columns (total 5 columns):\n",
      " #   Column          Non-Null Count  Dtype         \n",
      "---  ------          --------------  -----         \n",
      " 0   Date            2984 non-null   datetime64[ns]\n",
      " 1   Close           2984 non-null   float64       \n",
      " 2   Previous_Close  2984 non-null   float64       \n",
      " 3   PDR             2984 non-null   float64       \n",
      " 4   MC_Pred         2984 non-null   float64       \n",
      "dtypes: datetime64[ns](1), float64(4)\n",
      "memory usage: 116.7 KB\n"
     ]
    }
   ],
   "source": [
    "apple.info()"
   ]
  },
  {
   "cell_type": "code",
   "execution_count": 14,
   "metadata": {},
   "outputs": [
    {
     "data": {
      "text/plain": [
       "2984"
      ]
     },
     "execution_count": 14,
     "metadata": {},
     "output_type": "execute_result"
    }
   ],
   "source": [
    "len(apple['MC_Pred'])"
   ]
  },
  {
   "cell_type": "code",
   "execution_count": 15,
   "metadata": {},
   "outputs": [],
   "source": [
    "apple.MC_Pred = apple['MC_Pred']"
   ]
  },
  {
   "cell_type": "code",
   "execution_count": 16,
   "metadata": {},
   "outputs": [
    {
     "data": {
      "text/plain": [
       "2984"
      ]
     },
     "execution_count": 16,
     "metadata": {},
     "output_type": "execute_result"
    }
   ],
   "source": [
    "len(apple.MC_Pred)"
   ]
  },
  {
   "cell_type": "code",
   "execution_count": 17,
   "metadata": {},
   "outputs": [
    {
     "data": {
      "image/png": "[encoded data removed]",
      "text/plain": [
       "<Figure size 1440x432 with 1 Axes>"
      ]
     },
     "metadata": {},
     "output_type": "display_data"
    }
   ],
   "source": [
    "plt.figure(figsize = (20,6))\n",
    "plt.plot(apple.Date\n",
    "         , apple.Close\n",
    "         , label = 'Apple'\n",
    "         , alpha = 0.8\n",
    "         , linewidth = 2\n",
    "        )\n",
    "plt.plot(apple.Date\n",
    "         , apple.MC_Pred\n",
    "         , 'r--'\n",
    "         , label = 'Monte Carlo Prediction'\n",
    "         , linewidth = 2\n",
    "         , alpha = 0.8\n",
    "        )\n",
    "plt.legend()\n",
    "plt.title('Apple Stock Daly Price Monte Carlo Simulation Circa 2009'\n",
    "          , fontsize = 35\n",
    "         )\n",
    "plt.xlabel('Date'\n",
    "           , fontsize = 30\n",
    "          )\n",
    "plt.ylabel('Price USD'\n",
    "           , fontsize = 30\n",
    "          );"
   ]
  },
  {
   "cell_type": "code",
   "execution_count": 18,
   "metadata": {},
   "outputs": [],
   "source": [
    "# Make a function\n",
    "def monte_stocks(ticker, date):\n",
    "    pass"
   ]
  },
  {
   "cell_type": "code",
   "execution_count": null,
   "metadata": {},
   "outputs": [],
   "source": []
  }
 ],
 "metadata": {
  "kernelspec": {
   "display_name": "Python 3",
   "language": "python",
   "name": "python3"
  },
  "language_info": {
   "codemirror_mode": {
    "name": "ipython",
    "version": 3
   },
   "file_extension": ".py",
   "mimetype": "text/x-python",
   "name": "python",
   "nbconvert_exporter": "python",
   "pygments_lexer": "ipython3",
   "version": "3.8.5"
  }
 },
 "nbformat": 4,
 "nbformat_minor": 4
}
