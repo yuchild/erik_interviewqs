{
 "cells": [
  {
   "cell_type": "code",
   "execution_count": 1,
   "id": "e612e63f",
   "metadata": {},
   "outputs": [],
   "source": [
    "\"\"\"\n",
    "This question was asked by: Facebook\n",
    "There are two lists of dictionaries representing friendship \n",
    "beginnings and endings: friends_added and friends_removed. \n",
    "Each dictionary contains the user_ids and created_at time \n",
    "of the friendship beginning /ending . \n",
    "\n",
    "Write a function friendship_timeline to generate an output \n",
    "which lists the pairs of friends with their corresponding \n",
    "timestamps of the friendship beginning and then the \n",
    "timestamp of the friendship ending.\n",
    "\n",
    "Note: There can be multiple instances over time when two \n",
    "people became friends and unfriended; only output lists \n",
    "when a corresponding friendship was removed.\n",
    "\n",
    "Example Input\n",
    "\n",
    "friends_added = [\n",
    "    {'user_ids': [1, 2], 'created_at': '2020-01-01'},\n",
    "    {'user_ids': [3, 2], 'created_at': '2020-01-02'},\n",
    "    {'user_ids': [2, 1], 'created_at': '2020-02-02'},\n",
    "    {'user_ids': [4, 1], 'created_at': '2020-02-02'}]\n",
    "\n",
    "friends_removed = [\n",
    "    {'user_ids': [2, 1], 'created_at': '2020-01-03'},\n",
    "    {'user_ids': [2, 3], 'created_at': '2020-01-05'},\n",
    "    {'user_ids': [1, 2], 'created_at': '2020-02-05'}]\n",
    "Output:\n",
    "\n",
    "friendships = [{\n",
    "    'user_ids': [1, 2],\n",
    "    'start_date': '2020-01-01',\n",
    "    'end_date': '2020-01-03'\n",
    "  },\n",
    "  {\n",
    "    'user_ids': [1, 2],\n",
    "    'start_date': '2020-02-02',\n",
    "    'end_date': '2020-02-05'\n",
    "  },\n",
    "  {\n",
    "    'user_ids': [2, 3],\n",
    "    'start_date': '2020-01-02',\n",
    "    'end_date': '2020-01-05'\n",
    "  },\n",
    "]\n",
    "\"\"\"\n",
    "friends_added = [\n",
    "    {'user_ids': [1, 2], 'created_at': '2020-01-01'},\n",
    "    {'user_ids': [3, 2], 'created_at': '2020-01-02'},\n",
    "    {'user_ids': [2, 1], 'created_at': '2020-02-02'},\n",
    "    {'user_ids': [4, 1], 'created_at': '2020-02-02'}]\n",
    "\n",
    "friends_removed = [\n",
    "    {'user_ids': [2, 1], 'created_at': '2020-01-03'},\n",
    "    {'user_ids': [2, 3], 'created_at': '2020-01-05'},\n",
    "    {'user_ids': [1, 2], 'created_at': '2020-02-05'}]"
   ]
  },
  {
   "cell_type": "code",
   "execution_count": 2,
   "id": "781866ce",
   "metadata": {},
   "outputs": [
    {
     "data": {
      "text/plain": [
       "[{'user_ids': [1, 2], 'start_date': '2020-01-01', 'end_date': '2020-01-03'},\n",
       " {'user_ids': [3, 2], 'start_date': '2020-01-02', 'end_date': '2020-01-05'},\n",
       " {'user_ids': [2, 1], 'start_date': '2020-02-02', 'end_date': '2020-02-05'}]"
      ]
     },
     "execution_count": 2,
     "metadata": {},
     "output_type": "execute_result"
    }
   ],
   "source": [
    "friendships = []\n",
    "for i in range(len(friends_added)):\n",
    "    for j in range(len(friends_removed)):\n",
    "        if (set(friends_added[i]['user_ids']) == set(friends_removed[j]['user_ids'])) and (friends_added[i]['user_ids'][1] == friends_removed[j]['user_ids'][0]):\n",
    "            friendships.append({'user_ids':friends_added[i]['user_ids'],\n",
    "                                'start_date':friends_added[i]['created_at'],\n",
    "                                'end_date':friends_removed[j]['created_at']\n",
    "                               })\n",
    "friendships"
   ]
  },
  {
   "cell_type": "code",
   "execution_count": null,
   "id": "40881cbd",
   "metadata": {},
   "outputs": [],
   "source": []
  }
 ],
 "metadata": {
  "kernelspec": {
   "display_name": "Python 3 (ipykernel)",
   "language": "python",
   "name": "python3"
  },
  "language_info": {
   "codemirror_mode": {
    "name": "ipython",
    "version": 3
   },
   "file_extension": ".py",
   "mimetype": "text/x-python",
   "name": "python",
   "nbconvert_exporter": "python",
   "pygments_lexer": "ipython3",
   "version": "3.8.10"
  }
 },
 "nbformat": 4,
 "nbformat_minor": 5
}
