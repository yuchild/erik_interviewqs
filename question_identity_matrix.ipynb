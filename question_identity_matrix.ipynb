{
 "cells": [
  {
   "cell_type": "code",
   "execution_count": 1,
   "metadata": {},
   "outputs": [],
   "source": [
    "\"\"\"\n",
    "Can you build a function that prints an identity matrix, given the identity matrix size?\n",
    "\n",
    "Examples:\n",
    "\n",
    "Input: 2\n",
    "Output: \n",
    "       1 0\n",
    "       0 1\n",
    "         \n",
    "\n",
    "Input: 4\n",
    "Output: \n",
    "       1 0 0 0\n",
    "       0 1 0 0\n",
    "       0 0 1 0\n",
    "       0 0 0 1\n",
    "\"\"\"\n",
    "def identity(n):\n",
    "    row = [0 for _ in range(n)]\n",
    "    for i in range(n):\n",
    "        row[i] = 1\n",
    "        print(row)\n",
    "        row[i] = 0"
   ]
  },
  {
   "cell_type": "code",
   "execution_count": 2,
   "metadata": {},
   "outputs": [
    {
     "name": "stdout",
     "output_type": "stream",
     "text": [
      "[1, 0, 0, 0]\n",
      "[0, 1, 0, 0]\n",
      "[0, 0, 1, 0]\n",
      "[0, 0, 0, 1]\n"
     ]
    }
   ],
   "source": [
    "identity(4)"
   ]
  },
  {
   "cell_type": "code",
   "execution_count": null,
   "metadata": {},
   "outputs": [],
   "source": []
  }
 ],
 "metadata": {
  "kernelspec": {
   "display_name": "Python 3",
   "language": "python",
   "name": "python3"
  },
  "language_info": {
   "codemirror_mode": {
    "name": "ipython",
    "version": 3
   },
   "file_extension": ".py",
   "mimetype": "text/x-python",
   "name": "python",
   "nbconvert_exporter": "python",
   "pygments_lexer": "ipython3",
   "version": "3.8.5"
  }
 },
 "nbformat": 4,
 "nbformat_minor": 4
}
