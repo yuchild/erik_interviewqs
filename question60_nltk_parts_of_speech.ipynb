{
 "cells": [
  {
   "cell_type": "code",
   "execution_count": 1,
   "metadata": {},
   "outputs": [],
   "source": [
    "import nltk"
   ]
  },
  {
   "cell_type": "code",
   "execution_count": 2,
   "metadata": {},
   "outputs": [],
   "source": [
    "texts =\"\"\"Atticus said to Jem one day, “I’d rather you shot at tin cans in the backyard, but I know you’ll go after birds. \n",
    "Shoot all the blue jays you want, if you can hit ‘em, but remember it’s a sin to kill a mockingbird.” \n",
    "That was the only time I ever heard Atticus say it was a sin to do something, and I asked Miss Maudie about it. \n",
    "“Your father’s right,” she said. \n",
    "“Mockingbirds don’t do one thing except make music for us to enjoy. \n",
    "They don’t eat up people’s gardens, don’t nest in corn cribs, they don’t do one thing but sing their hearts out for us. \n",
    "That’s why it’s a sin to kill a mockingbird.\"\"\""
   ]
  },
  {
   "cell_type": "code",
   "execution_count": 3,
   "metadata": {},
   "outputs": [
    {
     "data": {
      "text/plain": [
       "'Atticus said to Jem one day, “I’d rather you shot at tin cans in the backyard, but I know you’ll go after birds. \\nShoot all the blue jays you want, if you can hit ‘em, but remember it’s a sin to kill a mockingbird.” \\nThat was the only time I ever heard Atticus say it was a sin to do something, and I asked Miss Maudie about it. \\n“Your father’s right,” she said. \\n“Mockingbirds don’t do one thing except make music for us to enjoy. \\nThey don’t eat up people’s gardens, don’t nest in corn cribs, they don’t do one thing but sing their hearts out for us. \\nThat’s why it’s a sin to kill a mockingbird.'"
      ]
     },
     "execution_count": 3,
     "metadata": {},
     "output_type": "execute_result"
    }
   ],
   "source": [
    "texts"
   ]
  },
  {
   "cell_type": "code",
   "execution_count": null,
   "metadata": {},
   "outputs": [],
   "source": []
  }
 ],
 "metadata": {
  "kernelspec": {
   "display_name": "Python 3",
   "language": "python",
   "name": "python3"
  },
  "language_info": {
   "codemirror_mode": {
    "name": "ipython",
    "version": 3
   },
   "file_extension": ".py",
   "mimetype": "text/x-python",
   "name": "python",
   "nbconvert_exporter": "python",
   "pygments_lexer": "ipython3",
   "version": "3.8.2"
  }
 },
 "nbformat": 4,
 "nbformat_minor": 4
}
