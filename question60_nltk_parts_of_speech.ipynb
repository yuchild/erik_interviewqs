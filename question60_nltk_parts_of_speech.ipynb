{
 "cells": [
  {
   "cell_type": "code",
   "execution_count": 1,
   "metadata": {},
   "outputs": [],
   "source": [
    "import nltk"
   ]
  },
  {
   "cell_type": "code",
   "execution_count": 2,
   "metadata": {},
   "outputs": [],
   "source": [
    "texts =\"\"\"Atticus said to Jem one day, “I’d rather you shot at tin cans in the backyard, but I know you’ll go after birds. \n",
    "Shoot all the blue jays you want, if you can hit ‘em, but remember it’s a sin to kill a mockingbird.” \n",
    "That was the only time I ever heard Atticus say it was a sin to do something, and I asked Miss Maudie about it. \n",
    "“Your father’s right,” she said. \n",
    "“Mockingbirds don’t do one thing except make music for us to enjoy. \n",
    "They don’t eat up people’s gardens, don’t nest in corn cribs, they don’t do one thing but sing their hearts out for us. \n",
    "That’s why it’s a sin to kill a mockingbird.\"\"\""
   ]
  },
  {
   "cell_type": "code",
   "execution_count": 3,
   "metadata": {},
   "outputs": [
    {
     "data": {
      "text/plain": [
       "'Atticus said to Jem one day, “I’d rather you shot at tin cans in the backyard, but I know you’ll go after birds. \\nShoot all the blue jays you want, if you can hit ‘em, but remember it’s a sin to kill a mockingbird.” \\nThat was the only time I ever heard Atticus say it was a sin to do something, and I asked Miss Maudie about it. \\n“Your father’s right,” she said. \\n“Mockingbirds don’t do one thing except make music for us to enjoy. \\nThey don’t eat up people’s gardens, don’t nest in corn cribs, they don’t do one thing but sing their hearts out for us. \\nThat’s why it’s a sin to kill a mockingbird.'"
      ]
     },
     "execution_count": 3,
     "metadata": {},
     "output_type": "execute_result"
    }
   ],
   "source": [
    "texts"
   ]
  },
  {
   "cell_type": "code",
   "execution_count": 4,
   "metadata": {},
   "outputs": [],
   "source": [
    "# nltk.download('popular')"
   ]
  },
  {
   "cell_type": "code",
   "execution_count": 5,
   "metadata": {},
   "outputs": [],
   "source": [
    "# texts = nltk.word_tokenize(texts)"
   ]
  },
  {
   "cell_type": "code",
   "execution_count": 6,
   "metadata": {
    "scrolled": true
   },
   "outputs": [],
   "source": [
    "# texts_pos = nltk.pos_tag(texts)\n",
    "# texts_pos"
   ]
  },
  {
   "cell_type": "code",
   "execution_count": 7,
   "metadata": {},
   "outputs": [],
   "source": [
    "from nltk.tokenize import RegexpTokenizer"
   ]
  },
  {
   "cell_type": "code",
   "execution_count": 8,
   "metadata": {},
   "outputs": [],
   "source": [
    "tokenizer = RegexpTokenizer(r'\\w+')"
   ]
  },
  {
   "cell_type": "code",
   "execution_count": 9,
   "metadata": {},
   "outputs": [],
   "source": [
    "texts = nltk.word_tokenize(texts)"
   ]
  },
  {
   "cell_type": "code",
   "execution_count": 10,
   "metadata": {},
   "outputs": [
    {
     "data": {
      "text/plain": [
       "['Atticus',\n",
       " 'said',\n",
       " 'to',\n",
       " 'Jem',\n",
       " 'one',\n",
       " 'day',\n",
       " ',',\n",
       " '“',\n",
       " 'I',\n",
       " '’',\n",
       " 'd',\n",
       " 'rather',\n",
       " 'you',\n",
       " 'shot',\n",
       " 'at',\n",
       " 'tin',\n",
       " 'cans',\n",
       " 'in',\n",
       " 'the',\n",
       " 'backyard',\n",
       " ',',\n",
       " 'but',\n",
       " 'I',\n",
       " 'know',\n",
       " 'you',\n",
       " '’',\n",
       " 'll',\n",
       " 'go',\n",
       " 'after',\n",
       " 'birds',\n",
       " '.',\n",
       " 'Shoot',\n",
       " 'all',\n",
       " 'the',\n",
       " 'blue',\n",
       " 'jays',\n",
       " 'you',\n",
       " 'want',\n",
       " ',',\n",
       " 'if',\n",
       " 'you',\n",
       " 'can',\n",
       " 'hit',\n",
       " '‘',\n",
       " 'em',\n",
       " ',',\n",
       " 'but',\n",
       " 'remember',\n",
       " 'it',\n",
       " '’',\n",
       " 's',\n",
       " 'a',\n",
       " 'sin',\n",
       " 'to',\n",
       " 'kill',\n",
       " 'a',\n",
       " 'mockingbird.',\n",
       " '”',\n",
       " 'That',\n",
       " 'was',\n",
       " 'the',\n",
       " 'only',\n",
       " 'time',\n",
       " 'I',\n",
       " 'ever',\n",
       " 'heard',\n",
       " 'Atticus',\n",
       " 'say',\n",
       " 'it',\n",
       " 'was',\n",
       " 'a',\n",
       " 'sin',\n",
       " 'to',\n",
       " 'do',\n",
       " 'something',\n",
       " ',',\n",
       " 'and',\n",
       " 'I',\n",
       " 'asked',\n",
       " 'Miss',\n",
       " 'Maudie',\n",
       " 'about',\n",
       " 'it',\n",
       " '.',\n",
       " '“',\n",
       " 'Your',\n",
       " 'father',\n",
       " '’',\n",
       " 's',\n",
       " 'right',\n",
       " ',',\n",
       " '”',\n",
       " 'she',\n",
       " 'said',\n",
       " '.',\n",
       " '“',\n",
       " 'Mockingbirds',\n",
       " 'don',\n",
       " '’',\n",
       " 't',\n",
       " 'do',\n",
       " 'one',\n",
       " 'thing',\n",
       " 'except',\n",
       " 'make',\n",
       " 'music',\n",
       " 'for',\n",
       " 'us',\n",
       " 'to',\n",
       " 'enjoy',\n",
       " '.',\n",
       " 'They',\n",
       " 'don',\n",
       " '’',\n",
       " 't',\n",
       " 'eat',\n",
       " 'up',\n",
       " 'people',\n",
       " '’',\n",
       " 's',\n",
       " 'gardens',\n",
       " ',',\n",
       " 'don',\n",
       " '’',\n",
       " 't',\n",
       " 'nest',\n",
       " 'in',\n",
       " 'corn',\n",
       " 'cribs',\n",
       " ',',\n",
       " 'they',\n",
       " 'don',\n",
       " '’',\n",
       " 't',\n",
       " 'do',\n",
       " 'one',\n",
       " 'thing',\n",
       " 'but',\n",
       " 'sing',\n",
       " 'their',\n",
       " 'hearts',\n",
       " 'out',\n",
       " 'for',\n",
       " 'us',\n",
       " '.',\n",
       " 'That',\n",
       " '’',\n",
       " 's',\n",
       " 'why',\n",
       " 'it',\n",
       " '’',\n",
       " 's',\n",
       " 'a',\n",
       " 'sin',\n",
       " 'to',\n",
       " 'kill',\n",
       " 'a',\n",
       " 'mockingbird',\n",
       " '.']"
      ]
     },
     "execution_count": 10,
     "metadata": {},
     "output_type": "execute_result"
    }
   ],
   "source": [
    "texts"
   ]
  },
  {
   "cell_type": "code",
   "execution_count": 11,
   "metadata": {},
   "outputs": [],
   "source": [
    "import collections\n",
    "pos_list = nltk.pos_tag(texts)\n",
    "pos_counts = collections.Counter((sublist[1] for sublist in pos_list))"
   ]
  },
  {
   "cell_type": "code",
   "execution_count": 12,
   "metadata": {},
   "outputs": [
    {
     "name": "stdout",
     "output_type": "stream",
     "text": [
      "Top five common tags are: [('NN', 29), ('PRP', 17), ('NNP', 12), ('VBP', 11), ('IN', 9)]\n"
     ]
    }
   ],
   "source": [
    "print(f'Top five common tags are: {pos_counts.most_common(5)}')"
   ]
  },
  {
   "cell_type": "code",
   "execution_count": 13,
   "metadata": {},
   "outputs": [
    {
     "name": "stdout",
     "output_type": "stream",
     "text": [
      "Top five common tags are: [('NN', 29), ('PRP', 17), ('NNP', 12), ('VBP', 11), ('IN', 9)]\n"
     ]
    }
   ],
   "source": [
    "# without collections\n",
    "post_counts = nltk.FreqDist(tag for (word, tag) in pos_list)\n",
    "print(f'Top five common tags are: {post_counts.most_common(5)}')"
   ]
  },
  {
   "cell_type": "code",
   "execution_count": null,
   "metadata": {},
   "outputs": [],
   "source": []
  }
 ],
 "metadata": {
  "kernelspec": {
   "display_name": "Python 3",
   "language": "python",
   "name": "python3"
  },
  "language_info": {
   "codemirror_mode": {
    "name": "ipython",
    "version": 3
   },
   "file_extension": ".py",
   "mimetype": "text/x-python",
   "name": "python",
   "nbconvert_exporter": "python",
   "pygments_lexer": "ipython3",
   "version": "3.8.5"
  }
 },
 "nbformat": 4,
 "nbformat_minor": 4
}
