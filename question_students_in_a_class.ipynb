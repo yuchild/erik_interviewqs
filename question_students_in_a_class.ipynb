{
 "cells": [
  {
   "cell_type": "code",
   "execution_count": 1,
   "metadata": {},
   "outputs": [
    {
     "data": {
      "text/plain": [
       "41"
      ]
     },
     "execution_count": 1,
     "metadata": {},
     "output_type": "execute_result"
    }
   ],
   "source": [
    "'''\n",
    "In a class of 120 students numbered 1 to 120\n",
    ", all even numbered students opt for Physics\n",
    ", those whose numbers are divisible by 5 opt for Chemistry\n",
    ", and those whose numbers are divisible by 7 opt for Math.\n",
    "\n",
    "Given this information, how many opt for none of the three subjects?\n",
    "'''\n",
    "\n",
    "students = [x for x in range(1,121)]\n",
    "counter = 0\n",
    "for x in students:\n",
    "    if x % 2 != 0 and x % 5 != 0 and x % 7 != 0:\n",
    "        counter += 1\n",
    "counter"
   ]
  },
  {
   "cell_type": "code",
   "execution_count": 2,
   "metadata": {},
   "outputs": [
    {
     "data": {
      "text/plain": [
       "41"
      ]
     },
     "execution_count": 2,
     "metadata": {},
     "output_type": "execute_result"
    }
   ],
   "source": [
    "120 - (60 + 24 - 13 + 17 - 7 - 2)"
   ]
  },
  {
   "cell_type": "code",
   "execution_count": null,
   "metadata": {},
   "outputs": [],
   "source": []
  }
 ],
 "metadata": {
  "kernelspec": {
   "display_name": "Python 3",
   "language": "python",
   "name": "python3"
  },
  "language_info": {
   "codemirror_mode": {
    "name": "ipython",
    "version": 3
   },
   "file_extension": ".py",
   "mimetype": "text/x-python",
   "name": "python",
   "nbconvert_exporter": "python",
   "pygments_lexer": "ipython3",
   "version": "3.8.5"
  }
 },
 "nbformat": 4,
 "nbformat_minor": 4
}
