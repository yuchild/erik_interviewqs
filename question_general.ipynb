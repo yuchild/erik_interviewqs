{
 "cells": [
  {
   "cell_type": "code",
   "execution_count": 1,
   "metadata": {},
   "outputs": [],
   "source": [
    "\"\"\"\n",
    "Suppose you are given a tuple containing ints and strings. \n",
    "Write a Python function to return the # of times a given element, n, appears in the tuple.\n",
    "\n",
    "For example, given the tuple below, where n=3, your function should return 4, \n",
    "since 3 appears 4 times in the tuple.\n",
    "\n",
    "Input: \n",
    " n=3, \n",
    " my_tuple = 2, 'my_string', 4, 3, 3, 3, 2, 3\n",
    "Output: \n",
    " 4\n",
    " \n",
    "Notice how the tuple above contains ints, as well as a string called 'my_string'. \n",
    "Your function should be able to search/count both.\n",
    "\"\"\"\n",
    "def func(n, my_tuple):\n",
    "    ctn = 0\n",
    "    for x in my_tuple.split(', '):\n",
    "        if str(x) == n:\n",
    "            ctn += 1\n",
    "    return ctn"
   ]
  },
  {
   "cell_type": "code",
   "execution_count": 2,
   "metadata": {},
   "outputs": [
    {
     "name": "stdout",
     "output_type": "stream",
     "text": [
      "happy\n",
      "happy, sad, happy, sad, happy\n"
     ]
    },
    {
     "data": {
      "text/plain": [
       "3"
      ]
     },
     "execution_count": 2,
     "metadata": {},
     "output_type": "execute_result"
    }
   ],
   "source": [
    "n = input()\n",
    "my_tuple = input()\n",
    "func(n, my_tuple)"
   ]
  },
  {
   "cell_type": "code",
   "execution_count": null,
   "metadata": {},
   "outputs": [],
   "source": []
  }
 ],
 "metadata": {
  "kernelspec": {
   "display_name": "Python 3",
   "language": "python",
   "name": "python3"
  },
  "language_info": {
   "codemirror_mode": {
    "name": "ipython",
    "version": 3
   },
   "file_extension": ".py",
   "mimetype": "text/x-python",
   "name": "python",
   "nbconvert_exporter": "python",
   "pygments_lexer": "ipython3",
   "version": "3.8.5"
  }
 },
 "nbformat": 4,
 "nbformat_minor": 4
}
