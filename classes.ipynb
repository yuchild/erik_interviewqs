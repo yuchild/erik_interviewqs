{
 "cells": [
  {
   "cell_type": "code",
   "execution_count": 1,
   "metadata": {},
   "outputs": [],
   "source": [
    "from pydocs import wizcoin"
   ]
  },
  {
   "cell_type": "code",
   "execution_count": 2,
   "metadata": {},
   "outputs": [
    {
     "name": "stdout",
     "output_type": "stream",
     "text": [
      "<pydocs.wizcoin.WizCoin object at 0x7fec8c12c3a0>\n",
      "G: 2, S: 5, K: 99\n",
      "Weight: 613.906 grams\n"
     ]
    }
   ],
   "source": [
    "purse = wizcoin.WizCoin(2, 5, 99)\n",
    "print(purse)\n",
    "print(f'G: {purse.galleons}, S: {purse.sickles}, K: {purse.knuts}')\n",
    "print(f'Weight: {purse.weightInGrams()} grams')"
   ]
  },
  {
   "cell_type": "code",
   "execution_count": 3,
   "metadata": {},
   "outputs": [
    {
     "name": "stdout",
     "output_type": "stream",
     "text": [
      "<pydocs.wizcoin.WizCoin object at 0x7fec8c12c880>\n",
      "G: 13, S: 0, K: 0\n",
      "Total value: 6409\n",
      "Weight: 404.339 grams\n"
     ]
    }
   ],
   "source": [
    "coinJar = wizcoin.WizCoin(13, 0, 0)\n",
    "print(coinJar)\n",
    "print(f'G: {coinJar.galleons}, S: {coinJar.sickles}, K: {coinJar.knuts}')\n",
    "print(f'Total value: {coinJar.value()}')\n",
    "print(f'Weight: {coinJar.weightInGrams()} grams')"
   ]
  },
  {
   "cell_type": "code",
   "execution_count": null,
   "metadata": {},
   "outputs": [],
   "source": []
  }
 ],
 "metadata": {
  "kernelspec": {
   "display_name": "Python 3",
   "language": "python",
   "name": "python3"
  },
  "language_info": {
   "codemirror_mode": {
    "name": "ipython",
    "version": 3
   },
   "file_extension": ".py",
   "mimetype": "text/x-python",
   "name": "python",
   "nbconvert_exporter": "python",
   "pygments_lexer": "ipython3",
   "version": "3.8.5"
  }
 },
 "nbformat": 4,
 "nbformat_minor": 4
}
