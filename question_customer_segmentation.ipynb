{
 "cells": [
  {
   "cell_type": "code",
   "execution_count": 1,
   "metadata": {},
   "outputs": [
    {
     "data": {
      "text/html": [
       "<div>\n",
       "<style scoped>\n",
       "    .dataframe tbody tr th:only-of-type {\n",
       "        vertical-align: middle;\n",
       "    }\n",
       "\n",
       "    .dataframe tbody tr th {\n",
       "        vertical-align: top;\n",
       "    }\n",
       "\n",
       "    .dataframe thead th {\n",
       "        text-align: right;\n",
       "    }\n",
       "</style>\n",
       "<table border=\"1\" class=\"dataframe\">\n",
       "  <thead>\n",
       "    <tr style=\"text-align: right;\">\n",
       "      <th></th>\n",
       "      <th>InvoiceNo</th>\n",
       "      <th>StockCode</th>\n",
       "      <th>Description</th>\n",
       "      <th>Quantity</th>\n",
       "      <th>InvoiceDate</th>\n",
       "      <th>UnitPrice</th>\n",
       "      <th>CustomerID</th>\n",
       "      <th>Country</th>\n",
       "    </tr>\n",
       "  </thead>\n",
       "  <tbody>\n",
       "    <tr>\n",
       "      <th>10050</th>\n",
       "      <td>537224</td>\n",
       "      <td>84946</td>\n",
       "      <td>ANTIQUE SILVER TEA GLASS ETCHED</td>\n",
       "      <td>12</td>\n",
       "      <td>12/5/10 16:24</td>\n",
       "      <td>1.25</td>\n",
       "      <td>13174.0</td>\n",
       "      <td>United Kingdom</td>\n",
       "    </tr>\n",
       "    <tr>\n",
       "      <th>40731</th>\n",
       "      <td>539741</td>\n",
       "      <td>21041</td>\n",
       "      <td>RED RETROSPOT OVEN GLOVE DOUBLE</td>\n",
       "      <td>1</td>\n",
       "      <td>12/21/10 15:20</td>\n",
       "      <td>5.91</td>\n",
       "      <td>NaN</td>\n",
       "      <td>United Kingdom</td>\n",
       "    </tr>\n",
       "    <tr>\n",
       "      <th>10340</th>\n",
       "      <td>537237</td>\n",
       "      <td>21704</td>\n",
       "      <td>BAG 250g SWIRLY MARBLES</td>\n",
       "      <td>2</td>\n",
       "      <td>12/6/10 9:58</td>\n",
       "      <td>1.66</td>\n",
       "      <td>NaN</td>\n",
       "      <td>United Kingdom</td>\n",
       "    </tr>\n",
       "    <tr>\n",
       "      <th>15342</th>\n",
       "      <td>537638</td>\n",
       "      <td>22469</td>\n",
       "      <td>HEART OF WICKER SMALL</td>\n",
       "      <td>5</td>\n",
       "      <td>12/7/10 15:28</td>\n",
       "      <td>3.36</td>\n",
       "      <td>NaN</td>\n",
       "      <td>United Kingdom</td>\n",
       "    </tr>\n",
       "    <tr>\n",
       "      <th>50327</th>\n",
       "      <td>540551</td>\n",
       "      <td>21494</td>\n",
       "      <td>ROTATING LEAVES T-LIGHT HOLDER</td>\n",
       "      <td>6</td>\n",
       "      <td>1/10/11 9:43</td>\n",
       "      <td>1.66</td>\n",
       "      <td>NaN</td>\n",
       "      <td>United Kingdom</td>\n",
       "    </tr>\n",
       "    <tr>\n",
       "      <th>48540</th>\n",
       "      <td>540469</td>\n",
       "      <td>21500</td>\n",
       "      <td>PINK POLKADOT WRAP</td>\n",
       "      <td>25</td>\n",
       "      <td>1/7/11 14:04</td>\n",
       "      <td>0.42</td>\n",
       "      <td>12484.0</td>\n",
       "      <td>Spain</td>\n",
       "    </tr>\n",
       "    <tr>\n",
       "      <th>12244</th>\n",
       "      <td>537372</td>\n",
       "      <td>48187</td>\n",
       "      <td>DOORMAT NEW ENGLAND</td>\n",
       "      <td>4</td>\n",
       "      <td>12/6/10 12:52</td>\n",
       "      <td>7.95</td>\n",
       "      <td>16919.0</td>\n",
       "      <td>United Kingdom</td>\n",
       "    </tr>\n",
       "    <tr>\n",
       "      <th>64023</th>\n",
       "      <td>541592</td>\n",
       "      <td>22565</td>\n",
       "      <td>FELTCRAFT HAIRBANDS PINK AND WHITE</td>\n",
       "      <td>2</td>\n",
       "      <td>1/19/11 15:08</td>\n",
       "      <td>1.63</td>\n",
       "      <td>NaN</td>\n",
       "      <td>United Kingdom</td>\n",
       "    </tr>\n",
       "    <tr>\n",
       "      <th>41086</th>\n",
       "      <td>539750</td>\n",
       "      <td>21327</td>\n",
       "      <td>SKULLS WRITING SET</td>\n",
       "      <td>1</td>\n",
       "      <td>12/21/10 15:40</td>\n",
       "      <td>2.51</td>\n",
       "      <td>NaN</td>\n",
       "      <td>United Kingdom</td>\n",
       "    </tr>\n",
       "    <tr>\n",
       "      <th>57456</th>\n",
       "      <td>541206</td>\n",
       "      <td>21218</td>\n",
       "      <td>RED SPOTTY BISCUIT TIN</td>\n",
       "      <td>96</td>\n",
       "      <td>1/14/11 12:24</td>\n",
       "      <td>3.25</td>\n",
       "      <td>14646.0</td>\n",
       "      <td>Netherlands</td>\n",
       "    </tr>\n",
       "  </tbody>\n",
       "</table>\n",
       "</div>"
      ],
      "text/plain": [
       "      InvoiceNo StockCode                          Description  Quantity  \\\n",
       "10050    537224     84946      ANTIQUE SILVER TEA GLASS ETCHED        12   \n",
       "40731    539741     21041      RED RETROSPOT OVEN GLOVE DOUBLE         1   \n",
       "10340    537237     21704              BAG 250g SWIRLY MARBLES         2   \n",
       "15342    537638     22469                HEART OF WICKER SMALL         5   \n",
       "50327    540551     21494       ROTATING LEAVES T-LIGHT HOLDER         6   \n",
       "48540    540469     21500                  PINK POLKADOT WRAP         25   \n",
       "12244    537372     48187                  DOORMAT NEW ENGLAND         4   \n",
       "64023    541592     22565  FELTCRAFT HAIRBANDS PINK AND WHITE          2   \n",
       "41086    539750     21327                  SKULLS WRITING SET          1   \n",
       "57456    541206     21218               RED SPOTTY BISCUIT TIN        96   \n",
       "\n",
       "          InvoiceDate  UnitPrice  CustomerID         Country  \n",
       "10050   12/5/10 16:24       1.25     13174.0  United Kingdom  \n",
       "40731  12/21/10 15:20       5.91         NaN  United Kingdom  \n",
       "10340    12/6/10 9:58       1.66         NaN  United Kingdom  \n",
       "15342   12/7/10 15:28       3.36         NaN  United Kingdom  \n",
       "50327    1/10/11 9:43       1.66         NaN  United Kingdom  \n",
       "48540    1/7/11 14:04       0.42     12484.0           Spain  \n",
       "12244   12/6/10 12:52       7.95     16919.0  United Kingdom  \n",
       "64023   1/19/11 15:08       1.63         NaN  United Kingdom  \n",
       "41086  12/21/10 15:40       2.51         NaN  United Kingdom  \n",
       "57456   1/14/11 12:24       3.25     14646.0     Netherlands  "
      ]
     },
     "execution_count": 1,
     "metadata": {},
     "output_type": "execute_result"
    }
   ],
   "source": [
    "\"\"\"\n",
    "Given the following dataset, classify customer value based on order frequency. \n",
    "\n",
    "You can assign them a score of 1-3, with 1 being least valuable and 3 being most valuable. \n",
    "\n",
    "For example, a customer who has made 10 purchases is more valuable than one that has made \n",
    "2 purchases across the same time period.\n",
    "\n",
    "For more information regarding customer lifetime value you can read \n",
    "this post: https://www.shopify.com/blog/customer-lifetime-value\n",
    "\n",
    "The solution will be written in Python for premium users. \n",
    "\n",
    "Note that this question is a part of a series of questions that will build off of each other.\n",
    "\"\"\"\n",
    "import pandas as pd\n",
    "import matplotlib.pyplot as plt\n",
    "import numpy as np\n",
    "plt.style.use('fivethirtyeight')\n",
    "\n",
    "data = pd.read_csv('./data/Online_Retail.csv')\n",
    "data.sample(10)"
   ]
  },
  {
   "cell_type": "code",
   "execution_count": 2,
   "metadata": {},
   "outputs": [
    {
     "data": {
      "text/plain": [
       "InvoiceNo          0\n",
       "StockCode          0\n",
       "Description      166\n",
       "Quantity           0\n",
       "InvoiceDate        0\n",
       "UnitPrice          0\n",
       "CustomerID     25281\n",
       "Country            0\n",
       "dtype: int64"
      ]
     },
     "execution_count": 2,
     "metadata": {},
     "output_type": "execute_result"
    }
   ],
   "source": [
    "data.isna().sum()"
   ]
  },
  {
   "cell_type": "code",
   "execution_count": 3,
   "metadata": {},
   "outputs": [
    {
     "data": {
      "text/plain": [
       "(65499, 8)"
      ]
     },
     "execution_count": 3,
     "metadata": {},
     "output_type": "execute_result"
    }
   ],
   "source": [
    "data.shape"
   ]
  },
  {
   "cell_type": "code",
   "execution_count": 4,
   "metadata": {},
   "outputs": [
    {
     "data": {
      "text/plain": [
       "('1/10/11 10:04', '12/9/10 9:49')"
      ]
     },
     "execution_count": 4,
     "metadata": {},
     "output_type": "execute_result"
    }
   ],
   "source": [
    "data.InvoiceDate.min(), data.InvoiceDate.max()"
   ]
  },
  {
   "cell_type": "code",
   "execution_count": 5,
   "metadata": {},
   "outputs": [],
   "source": [
    "data['InvoiceDate'] = pd.to_datetime(data['InvoiceDate'])"
   ]
  },
  {
   "cell_type": "code",
   "execution_count": 6,
   "metadata": {},
   "outputs": [
    {
     "data": {
      "text/plain": [
       "(Timestamp('2010-12-01 08:26:00'), Timestamp('2011-01-20 18:01:00'))"
      ]
     },
     "execution_count": 6,
     "metadata": {},
     "output_type": "execute_result"
    }
   ],
   "source": [
    "data.InvoiceDate.min(), data.InvoiceDate.max()"
   ]
  },
  {
   "cell_type": "code",
   "execution_count": 7,
   "metadata": {},
   "outputs": [
    {
     "name": "stdout",
     "output_type": "stream",
     "text": [
      "<class 'pandas.core.frame.DataFrame'>\n",
      "RangeIndex: 65499 entries, 0 to 65498\n",
      "Data columns (total 8 columns):\n",
      " #   Column       Non-Null Count  Dtype         \n",
      "---  ------       --------------  -----         \n",
      " 0   InvoiceNo    65499 non-null  object        \n",
      " 1   StockCode    65499 non-null  object        \n",
      " 2   Description  65333 non-null  object        \n",
      " 3   Quantity     65499 non-null  int64         \n",
      " 4   InvoiceDate  65499 non-null  datetime64[ns]\n",
      " 5   UnitPrice    65499 non-null  float64       \n",
      " 6   CustomerID   40218 non-null  float64       \n",
      " 7   Country      65499 non-null  object        \n",
      "dtypes: datetime64[ns](1), float64(2), int64(1), object(4)\n",
      "memory usage: 4.0+ MB\n"
     ]
    }
   ],
   "source": [
    "data.info()"
   ]
  },
  {
   "cell_type": "code",
   "execution_count": null,
   "metadata": {},
   "outputs": [],
   "source": []
  }
 ],
 "metadata": {
  "kernelspec": {
   "display_name": "Python 3",
   "language": "python",
   "name": "python3"
  },
  "language_info": {
   "codemirror_mode": {
    "name": "ipython",
    "version": 3
   },
   "file_extension": ".py",
   "mimetype": "text/x-python",
   "name": "python",
   "nbconvert_exporter": "python",
   "pygments_lexer": "ipython3",
   "version": "3.8.5"
  }
 },
 "nbformat": 4,
 "nbformat_minor": 4
}
