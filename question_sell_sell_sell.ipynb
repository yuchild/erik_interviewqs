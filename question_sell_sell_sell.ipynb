{
 "cells": [
  {
   "cell_type": "code",
   "execution_count": 1,
   "metadata": {},
   "outputs": [],
   "source": [
    "arr = [2, 7, 1, 8, 2, 8, 14, 25, 14, 0, 4, 5]"
   ]
  },
  {
   "cell_type": "code",
   "execution_count": 2,
   "metadata": {},
   "outputs": [],
   "source": [
    "def max_profit(arr):\n",
    "    min_price = 0\n",
    "    max_price = 500000\n",
    "    "
   ]
  },
  {
   "cell_type": "code",
   "execution_count": 3,
   "metadata": {},
   "outputs": [],
   "source": [
    "def max_profit(arr):\n",
    "    max_profit = 0\n",
    "    min_price = arr[0]\n",
    "    for i in range(1, len(arr)):\n",
    "        min_price = min(min_price, arr[i])\n",
    "        potential_profit = arr[i] - min_price\n",
    "        max_profit = max(potential_profit, max_profit)\n",
    "    \n",
    "    return max_profit"
   ]
  },
  {
   "cell_type": "code",
   "execution_count": 4,
   "metadata": {},
   "outputs": [
    {
     "data": {
      "text/plain": [
       "24"
      ]
     },
     "execution_count": 4,
     "metadata": {},
     "output_type": "execute_result"
    }
   ],
   "source": [
    "max_profit(arr)"
   ]
  },
  {
   "cell_type": "code",
   "execution_count": 5,
   "metadata": {},
   "outputs": [
    {
     "data": {
      "text/plain": [
       "24"
      ]
     },
     "execution_count": 5,
     "metadata": {},
     "output_type": "execute_result"
    }
   ],
   "source": [
    "'''\n",
    "Redo: max profit\n",
    "'''\n",
    "\n",
    "def max_profit(arr):\n",
    "    max_ = 0\n",
    "    min_ = arr[0]\n",
    "    \n",
    "    for idx in range(1, len(arr)):\n",
    "        min_ = min(arr[idx], min_)\n",
    "        potential_profit = arr[idx] - min_\n",
    "        max_ = max(max_, potential_profit)\n",
    "    \n",
    "    return max_\n",
    "\n",
    "max_profit(arr)"
   ]
  },
  {
   "cell_type": "code",
   "execution_count": null,
   "metadata": {},
   "outputs": [],
   "source": []
  }
 ],
 "metadata": {
  "kernelspec": {
   "display_name": "Python 3",
   "language": "python",
   "name": "python3"
  },
  "language_info": {
   "codemirror_mode": {
    "name": "ipython",
    "version": 3
   },
   "file_extension": ".py",
   "mimetype": "text/x-python",
   "name": "python",
   "nbconvert_exporter": "python",
   "pygments_lexer": "ipython3",
   "version": "3.8.2"
  }
 },
 "nbformat": 4,
 "nbformat_minor": 4
}
